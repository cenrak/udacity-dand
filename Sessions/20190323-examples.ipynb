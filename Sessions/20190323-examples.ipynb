{
 "cells": [
  {
   "cell_type": "markdown",
   "metadata": {
    "colab_type": "text",
    "id": "m_6GNh0S0XuL"
   },
   "source": [
    "### Example 1:"
   ]
  },
  {
   "cell_type": "markdown",
   "metadata": {
    "colab_type": "text",
    "id": "Ref6VKmy0XuQ"
   },
   "source": [
    "1. Complete the method **return_42**, by making it **return 42**\n",
    "2. Create a method, which must be called **my_method**, which takes two arguments and returns the result of its two arguments multiplied together"
   ]
  },
  {
   "cell_type": "code",
   "execution_count": 0,
   "metadata": {
    "colab": {},
    "colab_type": "code",
    "id": "cr33DRu30XuU"
   },
   "outputs": [],
   "source": [
    "# Complete the method by making sure it returns 42. .\n",
    "def return_42():\n",
    "    return 42\n",
    "    # Complete method here\n",
    "\n",
    "# Create a method below, called my_method, that takes two arguments and returns the result of its two arguments multiplied together.\n",
    "def my_method(a, b): return a * b\n"
   ]
  },
  {
   "cell_type": "markdown",
   "metadata": {
    "colab_type": "text",
    "id": "ntBCVey90Xun"
   },
   "source": [
    "### Example 2:"
   ]
  },
  {
   "cell_type": "markdown",
   "metadata": {
    "colab_type": "text",
    "id": "RL4aqfDb0Xur"
   },
   "source": [
    "Create a functon that prints a sequence of integers from 1 to 100, and inplace of every multiple of 3 print “m3” and inplace of every multiple of 5 print  “m5” and if the number is a multiple of both print \"m 3&5\""
   ]
  },
  {
   "cell_type": "code",
   "execution_count": 50,
   "metadata": {
    "colab": {},
    "colab_type": "code",
    "id": "mpHaocgW0Xuu"
   },
   "outputs": [
    {
     "name": "stdout",
     "output_type": "stream",
     "text": [
      "1\n",
      "2\n",
      "m3\n",
      "4\n",
      "m5\n",
      "m3\n",
      "7\n",
      "8\n",
      "m3\n",
      "m5\n",
      "11\n",
      "m3\n",
      "13\n",
      "14\n",
      "m 3&5\n",
      "16\n",
      "17\n",
      "m3\n",
      "19\n",
      "m5\n",
      "m3\n",
      "22\n",
      "23\n",
      "m3\n",
      "m5\n",
      "26\n",
      "m3\n",
      "28\n",
      "29\n",
      "m 3&5\n",
      "31\n",
      "32\n",
      "m3\n",
      "34\n",
      "m5\n",
      "m3\n",
      "37\n",
      "38\n",
      "m3\n",
      "m5\n",
      "41\n",
      "m3\n",
      "43\n",
      "44\n",
      "m 3&5\n",
      "46\n",
      "47\n",
      "m3\n",
      "49\n",
      "m5\n",
      "m3\n",
      "52\n",
      "53\n",
      "m3\n",
      "m5\n",
      "56\n",
      "m3\n",
      "58\n",
      "59\n",
      "m 3&5\n",
      "61\n",
      "62\n",
      "m3\n",
      "64\n",
      "m5\n",
      "m3\n",
      "67\n",
      "68\n",
      "m3\n",
      "m5\n",
      "71\n",
      "m3\n",
      "73\n",
      "74\n",
      "m 3&5\n",
      "76\n",
      "77\n",
      "m3\n",
      "79\n",
      "m5\n",
      "m3\n",
      "82\n",
      "83\n",
      "m3\n",
      "m5\n",
      "86\n",
      "m3\n",
      "88\n",
      "89\n",
      "m 3&5\n",
      "91\n",
      "92\n",
      "m3\n",
      "94\n",
      "m5\n",
      "m3\n",
      "97\n",
      "98\n",
      "m3\n",
      "m5\n"
     ]
    }
   ],
   "source": [
    "def multiple35(end):\n",
    "    for i in range(1, end+1):\n",
    "        out = i\n",
    "        if i % 15 == 0: out = \"m 3&5\"\n",
    "        elif i % 3 == 0: out = \"m3\"\n",
    "        elif i % 5 == 0: out = \"m5\"\n",
    "        print(out)\n",
    "\n",
    "multiple35(100)"
   ]
  },
  {
   "cell_type": "markdown",
   "metadata": {
    "colab_type": "text",
    "id": "BlKzaMjW0Xu1"
   },
   "source": [
    "### Examlpe 3:"
   ]
  },
  {
   "cell_type": "markdown",
   "metadata": {
    "colab_type": "text",
    "id": "_ZM1lU-d0Xu2"
   },
   "source": [
    "Take two lists, say for example these two:\n",
    "\n",
    "  a = [1, 1, 2, 3, 5, 8, 13, 21, 34, 55, 89]\n",
    "  b = [1, 2, 3, 4, 5, 6, 7, 8, 9, 10, 11, 12, 13]\n",
    "    \n",
    "Write a function that returns a list that contains only the elements that are common between the lists  Make sure your program works on two lists of different sizes.\n"
   ]
  },
  {
   "cell_type": "code",
   "execution_count": 40,
   "metadata": {
    "colab": {},
    "colab_type": "code",
    "id": "Vg-68YWW0Xu4"
   },
   "outputs": [
    {
     "name": "stdout",
     "output_type": "stream",
     "text": [
      "{1, 2, 3, 5, 8, 13}\n"
     ]
    }
   ],
   "source": [
    "a = [1, 1, 2, 3, 5, 8, 13, 21, 34, 55, 89]\n",
    "b = [1, 2, 3, 4, 5, 6, 7, 8, 9, 10, 11, 12, 13]\n",
    "\n",
    "def common_elements(a, b):\n",
    "    a = set(a)\n",
    "    b = set(b)\n",
    "    return a.intersection(b)\n",
    "\n",
    "print(common_elements(a,b))"
   ]
  },
  {
   "cell_type": "markdown",
   "metadata": {
    "colab_type": "text",
    "id": "iqJYqA-J0XvA"
   },
   "source": [
    "### Example 4:"
   ]
  },
  {
   "cell_type": "markdown",
   "metadata": {
    "colab_type": "text",
    "id": "VSOR4pcC0XvD"
   },
   "source": [
    "1.Create a dictionary variable, called **student**.\n",
    "2. Modify a variable, **grades**, so it contains the value of a dictionary's key.\n",
    "3. Implement a function calculating a total average grade for a class of students."
   ]
  },
  {
   "cell_type": "code",
   "execution_count": 32,
   "metadata": {
    "colab": {},
    "colab_type": "code",
    "id": "HO_4u11u0XvF"
   },
   "outputs": [],
   "source": [
    "'''# Create a variable called student, with a dictionary.\n",
    "# The dictionary must contain three keys: 'name', 'school', and 'grades'.\n",
    "# The values for each must be 'Jose', 'Computing', and a tuple with the values 66, 77, and 88.'''\n",
    "student = {'name': 'Jose', 'school': 'Computing', 'grades': (66, 77, 88)}"
   ]
  },
  {
   "cell_type": "code",
   "execution_count": 37,
   "metadata": {
    "colab": {},
    "colab_type": "code",
    "id": "HO_4u11u0XvF"
   },
   "outputs": [
    {
     "name": "stdout",
     "output_type": "stream",
     "text": [
      "77.0\n"
     ]
    }
   ],
   "source": [
    "# Assume the argument, data, is a dictionary.\n",
    "# Modify the grades variable so it accesses the 'grades' key of the data dictionary.\n",
    "def average_grade(data):\n",
    "    grades =   data['grades']\n",
    "    return sum(grades) / len(grades)\n",
    "\n",
    "print(average_grade(student))"
   ]
  },
  {
   "cell_type": "code",
   "execution_count": 53,
   "metadata": {
    "colab": {},
    "colab_type": "code",
    "id": "HO_4u11u0XvF"
   },
   "outputs": [],
   "source": [
    "# Implement the function below\n",
    "# Given a list of students (a list of dictionaries), calculate the average grade received on an exam, for the entire class\n",
    "# You must add all the grades of all the students together\n",
    "# You must also count how many grades there are in total in the entire list\n",
    "def average_grade_all_students(student_list):\n",
    "    total = 0\n",
    "    count = 0\n",
    "    for student in student_list:\n",
    "        count = count + 1\n",
    "        total = total + average_grade(student)\n",
    "\n",
    "    return total / count"
   ]
  },
  {
   "cell_type": "code",
   "execution_count": 54,
   "metadata": {
    "colab": {},
    "colab_type": "code",
    "id": "lxkbBtr70XvQ"
   },
   "outputs": [
    {
     "data": {
      "text/plain": [
       "77.0"
      ]
     },
     "execution_count": 54,
     "metadata": {},
     "output_type": "execute_result"
    }
   ],
   "source": [
    "student_list  = [{'name': 'Jose', 'school': 'Computing', 'grades': (66, 77, 88)}, \n",
    "                {'name': 'raed', 'school': 'Engineering', 'grades': (66, 77, 88)}, \n",
    "                {'name': 'abdulaziz', 'school': 'math', 'grades': (66, 77, 88)}]\n",
    "\n",
    "average_grade_all_students(student_list)"
   ]
  },
  {
   "cell_type": "markdown",
   "metadata": {
    "colab_type": "text",
    "id": "BFWFwQ0g0XvU"
   },
   "source": [
    "### Example 5:"
   ]
  },
  {
   "cell_type": "markdown",
   "metadata": {
    "colab_type": "text",
    "id": "CUca4FLq0XvW"
   },
   "source": [
    "1. Extract all of the keys in the following dictionary:\n",
    "{\"day 1\": 1, \"day 2\": 2, \"day 3\": 3, \"day 4\": 4, \"day 5\": 5,\"day 6\": 6}"
   ]
  },
  {
   "cell_type": "code",
   "execution_count": 55,
   "metadata": {
    "colab": {},
    "colab_type": "code",
    "id": "MNqidwQL0XvY"
   },
   "outputs": [
    {
     "name": "stdout",
     "output_type": "stream",
     "text": [
      "dict_keys(['day 1', 'day 2', 'day 3', 'day 4', 'day 5', 'day 6'])\n"
     ]
    }
   ],
   "source": [
    "z = {\"day 1\": 1, \"day 2\": 2, \"day 3\": 3, \"day 4\": 4, \"day 5\": 5,\"day 6\": 6}\n",
    "print(z.keys())"
   ]
  },
  {
   "cell_type": "markdown",
   "metadata": {
    "colab_type": "text",
    "id": "N2DrpEQ60Xvd"
   },
   "source": [
    "### Example 6:"
   ]
  },
  {
   "cell_type": "markdown",
   "metadata": {
    "colab_type": "text",
    "id": "oppdA5iS0Xve"
   },
   "source": [
    "1. Extract the first 3 entries of the following list:\n",
    "list1=[1,1,2,3,5,8,13,22]\n"
   ]
  },
  {
   "cell_type": "code",
   "execution_count": 23,
   "metadata": {
    "colab": {},
    "colab_type": "code",
    "id": "5JdSpriO0Xvf"
   },
   "outputs": [
    {
     "name": "stdout",
     "output_type": "stream",
     "text": [
      "[1, 1, 2]\n"
     ]
    }
   ],
   "source": [
    "list1=[1,1,2,3,5,8,13,22]\n",
    "print(list1[0:3])"
   ]
  },
  {
   "cell_type": "markdown",
   "metadata": {
    "colab_type": "text",
    "id": "TAToEkwz0Xvl"
   },
   "source": [
    "### Example 7:"
   ]
  },
  {
   "cell_type": "markdown",
   "metadata": {
    "colab_type": "text",
    "id": "H48Qja_P0Xvm"
   },
   "source": [
    "1. Extract student name from dictionary by using get() method: \n",
    "\n",
    "students= {'name': 'Dina ', 'id': 200086}"
   ]
  },
  {
   "cell_type": "code",
   "execution_count": 56,
   "metadata": {
    "colab": {},
    "colab_type": "code",
    "id": "HLgdB5060Xvo"
   },
   "outputs": [
    {
     "name": "stdout",
     "output_type": "stream",
     "text": [
      "Dina \n"
     ]
    }
   ],
   "source": [
    "students= {'name': 'Dina ', 'id': 200086}\n",
    "print(students.get('name'))"
   ]
  },
  {
   "cell_type": "markdown",
   "metadata": {
    "colab_type": "text",
    "id": "ElbrvyC_0Xvs"
   },
   "source": [
    "### Example 8:"
   ]
  },
  {
   "cell_type": "markdown",
   "metadata": {
    "colab_type": "text",
    "id": "A1ZCKEzA0Xvt"
   },
   "source": [
    "1. Write a function that takes your name and returns it with upper case letters."
   ]
  },
  {
   "cell_type": "code",
   "execution_count": 21,
   "metadata": {
    "colab": {},
    "colab_type": "code",
    "id": "reFqmUQS0Xvu"
   },
   "outputs": [
    {
     "name": "stdout",
     "output_type": "stream",
     "text": [
      "RAED\n"
     ]
    }
   ],
   "source": [
    "def upper(name):\n",
    "    return name.upper()\n",
    "\n",
    "print(upper('raed'))"
   ]
  },
  {
   "cell_type": "code",
   "execution_count": null,
   "metadata": {},
   "outputs": [],
   "source": []
  }
 ],
 "metadata": {
  "colab": {
   "name": "Examples.ipynb",
   "provenance": [],
   "version": "0.3.2"
  },
  "kernelspec": {
   "display_name": "Python 3",
   "language": "python",
   "name": "python3"
  },
  "language_info": {
   "codemirror_mode": {
    "name": "ipython",
    "version": 3
   },
   "file_extension": ".py",
   "mimetype": "text/x-python",
   "name": "python",
   "nbconvert_exporter": "python",
   "pygments_lexer": "ipython3",
   "version": "3.7.2"
  }
 },
 "nbformat": 4,
 "nbformat_minor": 1
}
