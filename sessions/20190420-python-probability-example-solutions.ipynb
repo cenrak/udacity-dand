{
 "cells": [
  {
   "cell_type": "markdown",
   "metadata": {},
   "source": [
    "# Python Probability\n",
    "Use NumPy to create simulations and compute proportions for the following outcomes.\n",
    "\n",
    "**Please note again that we are using 0 to represent heads, and 1 to represent tails.**"
   ]
  },
  {
   "cell_type": "code",
   "execution_count": 1,
   "metadata": {},
   "outputs": [],
   "source": [
    "# import numpy\n",
    "import numpy as np"
   ]
  },
  {
   "cell_type": "markdown",
   "metadata": {},
   "source": [
    "## Probability: Coin Flips and Die Rolls "
   ]
  },
  {
   "cell_type": "markdown",
   "metadata": {},
   "source": [
    "### 1. Four fair coin flips produce exactly three head"
   ]
  },
  {
   "cell_type": "code",
   "execution_count": 8,
   "metadata": {},
   "outputs": [
    {
     "data": {
      "text/plain": [
       "0.261"
      ]
     },
     "execution_count": 8,
     "metadata": {},
     "output_type": "execute_result"
    }
   ],
   "source": [
    "# simulate 1 thousand tests of four fair coin flips\n",
    "tests = np.random.randint(2, size=(1000, 4))\n",
    "\n",
    "# sums of all tests\n",
    "test_sums = tests.sum(axis=1)\n",
    "\n",
    "# proportion of tests that produced exactly three head\n",
    "(test_sums == 1).mean() #1 0 0 0"
   ]
  },
  {
   "cell_type": "code",
   "execution_count": 20,
   "metadata": {},
   "outputs": [
    {
     "data": {
      "text/plain": [
       "array([2, 1, 1, 3, 1, 3, 1, 1, 0, 2, 2, 2, 2, 1, 2, 1, 1, 1, 1, 2, 0, 2,\n",
       "       3, 2, 1, 2, 2, 3, 1, 0, 2, 3, 2, 1, 1, 2, 1, 0, 2, 2, 2, 2, 1, 2,\n",
       "       2, 1, 1, 4, 0, 4, 2, 1, 3, 3, 2, 2, 1, 3, 3, 1, 2, 2, 2, 2, 1, 2,\n",
       "       1, 2, 2, 2, 1, 2, 4, 3, 3, 2, 2, 2, 1, 1, 2, 1, 2, 3, 3, 3, 1, 2,\n",
       "       1, 4, 3, 2, 3, 0, 4, 1, 4, 2, 4, 3, 2, 1, 1, 3, 3, 1, 4, 0, 1, 2,\n",
       "       2, 3, 1, 3, 2, 2, 3, 3, 1, 0, 2, 2, 1, 2, 3, 1, 3, 1, 3, 1, 1, 3,\n",
       "       0, 1, 1, 2, 2, 1, 3, 3, 2, 1, 3, 1, 1, 3, 2, 0, 2, 3, 3, 3, 1, 2,\n",
       "       1, 3, 0, 2, 2, 1, 2, 2, 2, 0, 3, 2, 2, 2, 1, 2, 2, 3, 3, 0, 2, 1,\n",
       "       3, 2, 3, 1, 1, 2, 1, 2, 1, 2, 3, 3, 2, 0, 3, 3, 2, 2, 3, 2, 1, 4,\n",
       "       2, 3, 3, 1, 2, 2, 1, 1, 2, 1, 2, 1, 2, 3, 2, 1, 2, 1, 4, 0, 3, 1,\n",
       "       2, 3, 3, 2, 3, 3, 2, 2, 3, 1, 3, 2, 2, 3, 2, 2, 2, 3, 2, 4, 1, 2,\n",
       "       1, 3, 2, 2, 2, 3, 4, 2, 1, 2, 1, 3, 1, 2, 1, 2, 2, 1, 0, 2, 2, 2,\n",
       "       2, 1, 1, 4, 2, 1, 4, 4, 2, 2, 1, 3, 2, 0, 2, 2, 2, 1, 1, 0, 2, 1,\n",
       "       2, 4, 1, 0, 2, 2, 0, 2, 2, 2, 3, 0, 3, 1, 2, 0, 2, 1, 0, 1, 1, 2,\n",
       "       2, 2, 3, 2, 4, 3, 2, 0, 3, 3, 4, 0, 2, 2, 4, 3, 2, 2, 3, 2, 1, 1,\n",
       "       2, 4, 1, 0, 0, 3, 4, 1, 3, 3, 2, 3, 2, 2, 4, 1, 1, 3, 2, 2, 1, 2,\n",
       "       2, 2, 2, 1, 2, 2, 2, 2, 2, 2, 2, 2, 3, 1, 3, 3, 2, 2, 2, 2, 1, 0,\n",
       "       2, 2, 3, 3, 2, 2, 2, 1, 3, 3, 2, 3, 3, 2, 3, 0, 1, 4, 2, 1, 1, 2,\n",
       "       3, 3, 3, 3, 2, 3, 4, 1, 2, 4, 2, 3, 2, 1, 2, 1, 2, 2, 3, 4, 2, 3,\n",
       "       3, 3, 1, 1, 3, 1, 4, 2, 3, 1, 0, 3, 3, 1, 1, 1, 3, 4, 1, 2, 2, 2,\n",
       "       2, 0, 3, 2, 3, 1, 3, 2, 2, 3, 1, 1, 3, 2, 3, 2, 3, 2, 2, 2, 1, 3,\n",
       "       3, 1, 0, 1, 2, 2, 4, 2, 2, 4, 2, 1, 1, 2, 4, 3, 2, 3, 1, 1, 0, 3,\n",
       "       1, 2, 4, 1, 3, 2, 1, 2, 0, 1, 2, 3, 2, 3, 4, 1, 2, 2, 3, 4, 1, 2,\n",
       "       3, 3, 3, 1, 2, 3, 1, 1, 1, 3, 1, 1, 2, 1, 4, 3, 2, 3, 3, 3, 2, 3,\n",
       "       1, 2, 2, 3, 1, 4, 2, 2, 1, 1, 2, 2, 3, 2, 0, 2, 4, 2, 2, 0, 1, 1,\n",
       "       2, 3, 0, 3, 2, 2, 3, 3, 2, 1, 3, 3, 1, 3, 3, 2, 3, 3, 1, 2, 2, 2,\n",
       "       3, 3, 2, 3, 1, 4, 1, 4, 2, 0, 4, 3, 3, 1, 3, 4, 2, 4, 0, 2, 3, 2,\n",
       "       2, 3, 3, 1, 1, 2, 1, 4, 1, 3, 2, 2, 2, 3, 2, 2, 2, 3, 2, 2, 1, 2,\n",
       "       1, 2, 1, 3, 3, 2, 2, 1, 2, 3, 3, 0, 1, 1, 2, 3, 1, 2, 2, 2, 3, 3,\n",
       "       1, 2, 3, 2, 3, 0, 3, 2, 2, 3, 1, 1, 1, 3, 3, 3, 2, 4, 3, 2, 2, 1,\n",
       "       2, 3, 3, 2, 3, 2, 3, 2, 2, 4, 4, 3, 0, 2, 3, 0, 2, 3, 3, 1, 1, 1,\n",
       "       0, 3, 2, 1, 1, 1, 0, 2, 2, 2, 0, 3, 3, 2, 2, 2, 1, 2, 3, 2, 2, 3,\n",
       "       1, 2, 1, 1, 2, 2, 3, 2, 1, 2, 3, 1, 1, 2, 2, 1, 2, 1, 2, 3, 2, 4,\n",
       "       1, 1, 2, 2, 1, 3, 1, 2, 2, 1, 2, 2, 1, 3, 3, 2, 1, 1, 2, 3, 1, 4,\n",
       "       0, 3, 3, 4, 4, 1, 3, 2, 1, 3, 2, 1, 3, 1, 2, 2, 2, 3, 1, 0, 3, 2,\n",
       "       3, 3, 2, 3, 3, 3, 0, 3, 2, 2, 2, 2, 3, 4, 3, 2, 3, 3, 3, 1, 3, 2,\n",
       "       3, 3, 2, 1, 2, 3, 2, 0, 0, 3, 4, 0, 1, 2, 1, 1, 1, 1, 1, 0, 4, 1,\n",
       "       4, 1, 1, 4, 3, 2, 2, 2, 3, 3, 3, 2, 1, 2, 2, 2, 1, 2, 1, 4, 2, 3,\n",
       "       2, 2, 2, 2, 0, 2, 4, 3, 2, 1, 2, 1, 2, 1, 3, 2, 1, 2, 2, 2, 1, 1,\n",
       "       1, 2, 2, 2, 1, 2, 3, 3, 4, 1, 1, 2, 1, 1, 1, 3, 2, 1, 2, 3, 1, 2,\n",
       "       3, 1, 1, 1, 1, 1, 3, 3, 3, 2, 1, 1, 1, 4, 4, 4, 1, 1, 2, 2, 2, 1,\n",
       "       1, 3, 2, 3, 3, 2, 2, 4, 1, 2, 3, 1, 2, 2, 2, 2, 2, 2, 2, 2, 2, 1,\n",
       "       2, 2, 2, 4, 2, 2, 1, 3, 3, 4, 2, 1, 2, 1, 1, 4, 1, 3, 1, 1, 3, 2,\n",
       "       2, 2, 1, 3, 2, 1, 2, 2, 2, 1, 1, 2, 2, 2, 3, 2, 1, 1, 1, 1, 4, 2,\n",
       "       2, 3, 1, 3, 2, 2, 2, 4, 2, 2, 2, 1, 1, 2, 2, 1, 2, 1, 3, 3, 1, 1,\n",
       "       1, 1, 2, 3, 1, 1, 1, 2, 2, 2])"
      ]
     },
     "execution_count": 20,
     "metadata": {},
     "output_type": "execute_result"
    }
   ],
   "source": [
    "np.where((tests == (1,0,0,0)).all(axis = 1))\n",
    "test_sums"
   ]
  },
  {
   "cell_type": "markdown",
   "metadata": {},
   "source": [
    "### 2. Four biased coin flips with P(H) = 0.7 produce exactly two head"
   ]
  },
  {
   "cell_type": "code",
   "execution_count": 21,
   "metadata": {},
   "outputs": [
    {
     "data": {
      "text/plain": [
       "0.268"
      ]
     },
     "execution_count": 21,
     "metadata": {},
     "output_type": "execute_result"
    }
   ],
   "source": [
    "# simulate 1 thousand tests of four biased coin flips\n",
    "# hint: use np.random.choice()\n",
    "tests = np.random.choice([0,1], size=(1000, 4), p=[0.7, 0.3])\n",
    "\n",
    "# sums of all tests\n",
    "test_sums = tests.sum(axis=1)\n",
    "\n",
    "# proportion of tests that produced exactly two head\n",
    "(test_sums == 2).mean()#1 1 0 0"
   ]
  },
  {
   "cell_type": "markdown",
   "metadata": {},
   "source": [
    "### 3. A die rolls an odd number"
   ]
  },
  {
   "cell_type": "code",
   "execution_count": 22,
   "metadata": {},
   "outputs": [
    {
     "data": {
      "text/plain": [
       "0.489"
      ]
     },
     "execution_count": 22,
     "metadata": {},
     "output_type": "execute_result"
    }
   ],
   "source": [
    "# simulate 1 thousand tests of one die roll\n",
    "tests = np.random.choice(np.arange(1, 7), size=1000)\n",
    "\n",
    "# proportion of tests that produced an odd number\n",
    "(tests % 2 != 0).mean()"
   ]
  },
  {
   "cell_type": "code",
   "execution_count": 23,
   "metadata": {},
   "outputs": [
    {
     "data": {
      "text/plain": [
       "array([3, 2, 5, 4, 1, 1, 3, 1, 5, 6, 3, 1, 2, 2, 3, 6, 2, 5, 5, 3, 3, 5,\n",
       "       6, 2, 1, 3, 3, 2, 5, 3, 5, 2, 2, 1, 3, 2, 4, 4, 1, 5, 6, 6, 4, 1,\n",
       "       2, 4, 5, 6, 1, 5, 3, 2, 5, 5, 5, 4, 5, 2, 1, 5, 2, 1, 5, 1, 3, 2,\n",
       "       2, 4, 2, 6, 3, 6, 5, 2, 1, 6, 6, 6, 5, 6, 5, 4, 4, 6, 3, 3, 2, 6,\n",
       "       6, 2, 6, 2, 5, 6, 5, 1, 6, 3, 5, 6, 2, 1, 2, 1, 3, 5, 3, 3, 6, 5,\n",
       "       3, 4, 2, 4, 5, 6, 4, 2, 4, 6, 1, 3, 4, 6, 3, 5, 2, 3, 6, 5, 1, 2,\n",
       "       3, 1, 1, 4, 6, 3, 2, 6, 4, 6, 2, 3, 1, 4, 4, 6, 4, 6, 2, 1, 3, 2,\n",
       "       6, 3, 1, 2, 4, 3, 3, 1, 3, 6, 6, 4, 1, 6, 6, 5, 4, 1, 4, 3, 4, 4,\n",
       "       1, 2, 6, 2, 1, 2, 5, 2, 6, 2, 1, 3, 4, 3, 2, 4, 4, 3, 6, 5, 1, 3,\n",
       "       6, 4, 4, 5, 5, 6, 5, 2, 4, 3, 6, 3, 3, 3, 1, 1, 5, 1, 1, 3, 6, 6,\n",
       "       1, 6, 4, 6, 2, 1, 2, 1, 3, 2, 6, 6, 4, 3, 2, 2, 3, 3, 6, 6, 1, 4,\n",
       "       5, 3, 2, 1, 6, 2, 6, 5, 4, 2, 3, 1, 2, 4, 2, 2, 6, 6, 6, 6, 5, 1,\n",
       "       3, 6, 5, 2, 2, 4, 6, 2, 1, 6, 2, 6, 1, 5, 1, 1, 3, 4, 3, 2, 1, 5,\n",
       "       4, 3, 5, 6, 4, 4, 2, 6, 1, 4, 6, 6, 1, 6, 3, 4, 6, 3, 4, 4, 4, 2,\n",
       "       2, 4, 6, 4, 4, 5, 3, 2, 2, 2, 4, 6, 3, 5, 6, 5, 1, 1, 4, 5, 6, 4,\n",
       "       2, 2, 6, 2, 3, 1, 5, 6, 3, 6, 6, 2, 1, 5, 3, 1, 2, 3, 4, 5, 2, 1,\n",
       "       2, 1, 2, 5, 4, 5, 4, 2, 1, 3, 6, 3, 1, 6, 6, 2, 3, 2, 1, 2, 3, 5,\n",
       "       5, 6, 6, 6, 1, 3, 4, 3, 3, 6, 2, 2, 4, 6, 5, 1, 5, 1, 4, 4, 3, 4,\n",
       "       6, 1, 5, 4, 3, 4, 3, 1, 2, 6, 5, 5, 3, 5, 1, 5, 1, 5, 4, 2, 3, 3,\n",
       "       1, 5, 4, 4, 5, 4, 1, 1, 2, 1, 3, 5, 6, 4, 3, 2, 2, 3, 1, 1, 2, 2,\n",
       "       3, 2, 1, 5, 5, 4, 6, 1, 1, 4, 1, 5, 3, 4, 4, 2, 2, 6, 6, 5, 4, 2,\n",
       "       6, 4, 6, 5, 6, 4, 3, 6, 5, 3, 6, 4, 2, 4, 4, 4, 2, 4, 2, 1, 1, 3,\n",
       "       3, 4, 2, 2, 5, 4, 5, 6, 4, 6, 4, 1, 5, 6, 5, 6, 2, 2, 4, 5, 6, 5,\n",
       "       6, 2, 1, 3, 5, 4, 5, 4, 2, 3, 2, 1, 5, 4, 1, 1, 2, 6, 1, 3, 3, 4,\n",
       "       1, 5, 5, 2, 2, 4, 5, 5, 6, 3, 1, 5, 5, 4, 1, 2, 5, 6, 4, 2, 1, 4,\n",
       "       5, 5, 3, 1, 4, 2, 4, 1, 6, 4, 1, 2, 5, 6, 1, 3, 4, 5, 3, 5, 4, 4,\n",
       "       3, 2, 1, 3, 6, 6, 1, 4, 3, 1, 5, 3, 2, 3, 5, 4, 3, 1, 5, 4, 3, 6,\n",
       "       4, 1, 4, 1, 4, 3, 3, 6, 5, 4, 3, 4, 3, 4, 1, 2, 2, 6, 1, 1, 3, 4,\n",
       "       2, 1, 5, 1, 2, 2, 3, 2, 6, 2, 5, 5, 6, 3, 3, 6, 1, 6, 4, 5, 1, 5,\n",
       "       4, 5, 6, 2, 3, 3, 3, 6, 5, 3, 1, 3, 2, 5, 5, 1, 1, 1, 1, 6, 2, 2,\n",
       "       1, 1, 1, 4, 6, 1, 1, 6, 3, 5, 4, 4, 4, 6, 3, 1, 1, 3, 2, 5, 1, 6,\n",
       "       1, 5, 5, 6, 3, 4, 5, 1, 2, 3, 4, 1, 5, 3, 4, 6, 4, 3, 2, 5, 4, 4,\n",
       "       1, 2, 3, 1, 3, 1, 1, 6, 6, 1, 5, 3, 3, 2, 5, 3, 6, 5, 2, 3, 5, 4,\n",
       "       5, 6, 3, 2, 5, 4, 6, 6, 1, 5, 2, 4, 1, 4, 1, 6, 6, 1, 4, 2, 4, 6,\n",
       "       6, 4, 2, 3, 5, 2, 1, 4, 3, 4, 5, 1, 4, 4, 4, 3, 1, 5, 2, 2, 6, 5,\n",
       "       2, 1, 1, 3, 4, 6, 4, 2, 2, 2, 2, 4, 3, 4, 5, 5, 3, 5, 6, 3, 6, 5,\n",
       "       4, 1, 4, 6, 3, 1, 5, 1, 5, 2, 5, 1, 3, 4, 2, 4, 6, 5, 4, 4, 6, 3,\n",
       "       4, 3, 5, 5, 4, 3, 2, 2, 2, 4, 1, 3, 2, 3, 6, 4, 6, 6, 2, 3, 6, 2,\n",
       "       6, 3, 6, 6, 3, 4, 2, 2, 1, 6, 4, 3, 1, 3, 4, 3, 5, 2, 6, 5, 6, 3,\n",
       "       6, 2, 5, 1, 2, 2, 6, 3, 3, 6, 4, 2, 4, 5, 4, 6, 5, 2, 4, 1, 6, 2,\n",
       "       3, 3, 5, 5, 2, 4, 1, 2, 4, 1, 6, 3, 5, 3, 5, 4, 4, 3, 2, 3, 1, 5,\n",
       "       4, 1, 1, 2, 4, 3, 6, 5, 6, 6, 3, 5, 6, 1, 2, 6, 3, 1, 2, 6, 2, 4,\n",
       "       5, 4, 2, 3, 6, 5, 6, 2, 5, 1, 3, 5, 3, 2, 5, 3, 5, 1, 2, 4, 2, 5,\n",
       "       5, 5, 3, 1, 1, 4, 5, 2, 5, 1, 6, 2, 5, 6, 6, 2, 4, 1, 4, 2, 3, 5,\n",
       "       2, 3, 3, 6, 1, 1, 5, 5, 4, 5, 6, 4, 2, 4, 3, 3, 3, 5, 2, 6, 6, 6,\n",
       "       2, 4, 3, 3, 2, 3, 1, 3, 4, 4])"
      ]
     },
     "execution_count": 23,
     "metadata": {},
     "output_type": "execute_result"
    }
   ],
   "source": [
    "tests"
   ]
  },
  {
   "cell_type": "markdown",
   "metadata": {},
   "source": [
    "### 4. Two dice roll a double"
   ]
  },
  {
   "cell_type": "code",
   "execution_count": 24,
   "metadata": {},
   "outputs": [
    {
     "data": {
      "text/plain": [
       "0.4"
      ]
     },
     "execution_count": 24,
     "metadata": {},
     "output_type": "execute_result"
    }
   ],
   "source": [
    "# simulate the first thousand die rolls\n",
    "first = np.random.choice(np.arange(1, 7), size=1000)\n",
    "\n",
    "# simulate the second thousand die rolls\n",
    "second = np.random.choice(np.arange(1, 7), size=1000)\n",
    "\n",
    "# proportion of tests where the 1st die is greater than the 2nd rolled\n",
    "(first > second).mean()"
   ]
  },
  {
   "cell_type": "markdown",
   "metadata": {},
   "source": [
    "## Conditional Probability & Bayes Rule"
   ]
  },
  {
   "cell_type": "code",
   "execution_count": 25,
   "metadata": {},
   "outputs": [
    {
     "data": {
      "text/html": [
       "<div>\n",
       "<style scoped>\n",
       "    .dataframe tbody tr th:only-of-type {\n",
       "        vertical-align: middle;\n",
       "    }\n",
       "\n",
       "    .dataframe tbody tr th {\n",
       "        vertical-align: top;\n",
       "    }\n",
       "\n",
       "    .dataframe thead th {\n",
       "        text-align: right;\n",
       "    }\n",
       "</style>\n",
       "<table border=\"1\" class=\"dataframe\">\n",
       "  <thead>\n",
       "    <tr style=\"text-align: right;\">\n",
       "      <th></th>\n",
       "      <th>patient_id</th>\n",
       "      <th>test_result</th>\n",
       "      <th>has_hyperthyrodism</th>\n",
       "    </tr>\n",
       "  </thead>\n",
       "  <tbody>\n",
       "    <tr>\n",
       "      <th>0</th>\n",
       "      <td>79452</td>\n",
       "      <td>Negative</td>\n",
       "      <td>False</td>\n",
       "    </tr>\n",
       "    <tr>\n",
       "      <th>1</th>\n",
       "      <td>81667</td>\n",
       "      <td>Positive</td>\n",
       "      <td>True</td>\n",
       "    </tr>\n",
       "    <tr>\n",
       "      <th>2</th>\n",
       "      <td>76297</td>\n",
       "      <td>Negative</td>\n",
       "      <td>False</td>\n",
       "    </tr>\n",
       "    <tr>\n",
       "      <th>3</th>\n",
       "      <td>36593</td>\n",
       "      <td>Negative</td>\n",
       "      <td>False</td>\n",
       "    </tr>\n",
       "    <tr>\n",
       "      <th>4</th>\n",
       "      <td>53717</td>\n",
       "      <td>Negative</td>\n",
       "      <td>False</td>\n",
       "    </tr>\n",
       "  </tbody>\n",
       "</table>\n",
       "</div>"
      ],
      "text/plain": [
       "   patient_id test_result  has_hyperthyrodism\n",
       "0       79452    Negative               False\n",
       "1       81667    Positive                True\n",
       "2       76297    Negative               False\n",
       "3       36593    Negative               False\n",
       "4       53717    Negative               False"
      ]
     },
     "execution_count": 25,
     "metadata": {},
     "output_type": "execute_result"
    }
   ],
   "source": [
    "# load dataset\n",
    "import pandas as pd\n",
    "\n",
    "df = pd.read_csv('hyperthyrodism_test_data.csv')\n",
    "df.head()"
   ]
  },
  {
   "cell_type": "markdown",
   "metadata": {},
   "source": [
    "### P(cancer|positive)"
   ]
  },
  {
   "cell_type": "code",
   "execution_count": null,
   "metadata": {},
   "outputs": [],
   "source": [
    "# What proportion of patients who tested positive has hyperthyrodism?\n",
    "print(df.query('test_result == \"Positive\"')['has_hyperthyrodism'].mean())"
   ]
  },
  {
   "cell_type": "markdown",
   "metadata": {},
   "source": [
    "### P(~cancer|positive)"
   ]
  },
  {
   "cell_type": "code",
   "execution_count": 36,
   "metadata": {},
   "outputs": [
    {
     "data": {
      "text/plain": [
       "0.6571782178217822"
      ]
     },
     "execution_count": 36,
     "metadata": {},
     "output_type": "execute_result"
    }
   ],
   "source": [
    "# What proportion of patients who tested positive doesn't have hyperthyrodism?\n",
    "1 - df.query('test_result == \"Positive\"')['has_hyperthyrodism'].mean()"
   ]
  },
  {
   "cell_type": "markdown",
   "metadata": {},
   "source": [
    "### P(cancer|negative)"
   ]
  },
  {
   "cell_type": "code",
   "execution_count": 37,
   "metadata": {},
   "outputs": [
    {
     "data": {
      "text/plain": [
       "0.013770180436847104"
      ]
     },
     "execution_count": 37,
     "metadata": {},
     "output_type": "execute_result"
    }
   ],
   "source": [
    "# What proportion of patients who tested negative has hyperthyrodism?\n",
    "df.query('test_result == \"Negative\"')['has_hyperthyrodism'].mean()"
   ]
  },
  {
   "cell_type": "markdown",
   "metadata": {},
   "source": [
    "### P(~cancer|negative)"
   ]
  },
  {
   "cell_type": "code",
   "execution_count": 38,
   "metadata": {},
   "outputs": [
    {
     "data": {
      "text/plain": [
       "0.9862298195631529"
      ]
     },
     "execution_count": 38,
     "metadata": {},
     "output_type": "execute_result"
    }
   ],
   "source": [
    "# What proportion of patients who tested negative doesn't have hyperthyrodism?\n",
    "1 - df.query('test_result == \"Negative\"')['has_hyperthyrodism'].mean()"
   ]
  },
  {
   "cell_type": "code",
   "execution_count": null,
   "metadata": {
    "collapsed": true
   },
   "outputs": [],
   "source": []
  }
 ],
 "metadata": {
  "kernelspec": {
   "display_name": "Python 3",
   "language": "python",
   "name": "python3"
  },
  "language_info": {
   "codemirror_mode": {
    "name": "ipython",
    "version": 3
   },
   "file_extension": ".py",
   "mimetype": "text/x-python",
   "name": "python",
   "nbconvert_exporter": "python",
   "pygments_lexer": "ipython3",
   "version": "3.6.8"
  }
 },
 "nbformat": 4,
 "nbformat_minor": 2
}
