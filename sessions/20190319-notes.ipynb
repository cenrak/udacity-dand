{
 "cells": [
  {
   "cell_type": "markdown",
   "metadata": {},
   "source": [
    "# To read:\n",
    "    * Stochostic analysis\n",
    "    * Amazon Prime Now: Delivery in two hours instead of 2 days.\n",
    "        * Some links:\n",
    "            * https://www.quora.com/How-does-Amazon-Prime-Now-one-hour-delivery-work\n",
    "            * https://www.quora.com/How-does-Amazon-Prime-deliver-within-2-hours\n",
    "         * the way it works?:\n",
    "             * from historical data, if the product is expected to be ordered within October, for example, have a shipment there ready for forwarding"
   ]
  },
  {
   "cell_type": "code",
   "execution_count": null,
   "metadata": {},
   "outputs": [],
   "source": []
  }
 ],
 "metadata": {
  "kernelspec": {
   "display_name": "Python 3",
   "language": "python",
   "name": "python3"
  },
  "language_info": {
   "codemirror_mode": {
    "name": "ipython",
    "version": 3
   },
   "file_extension": ".py",
   "mimetype": "text/x-python",
   "name": "python",
   "nbconvert_exporter": "python",
   "pygments_lexer": "ipython3",
   "version": "3.6.7"
  }
 },
 "nbformat": 4,
 "nbformat_minor": 2
}
