{
 "cells": [
  {
   "cell_type": "markdown",
   "metadata": {},
   "source": [
    "Hypothesis testing and Confidence Intervals allow to use only sample data to draw conclusions about the entire population\n",
    "\n",
    "![h0](12-h0.png)\n",
    "\n",
    "![errors](hypo-errors.png)\n",
    "\n",
    "\n",
    "# Type I Errors\n",
    "\n",
    "Type I errors have the following features:\n",
    "\n",
    "1. You should set up your null and alternative hypotheses, so that the worse of your errors is the type I error.\n",
    "2. They are denoted by the symbol α.\n",
    "3. The definition of a type I error is: Deciding the alternative H_1 is true, when actually H_0 is true.\n",
    "4. Type I errors are often called false positives.\n",
    "\n",
    "# Type II Errors\n",
    "\n",
    "1. They are denoted by the symbol β.\n",
    "2. The definition of a type II error is: Deciding the null H_0 is true, when actually H_1 is true.\n",
    "3. Type II errors are often called false negatives.\n",
    "\n",
    "\n",
    "In the most extreme case, we can always choose one hypothesis (say always choosing the null) to ensure that a particular error never occurs (never a type I error assuming we always choose the null). However, more generally, there is a relationship where with a single set of data decreasing your chance of one type of error, increases the chance of the other error occurring."
   ]
  },
  {
   "cell_type": "code",
   "execution_count": 13,
   "metadata": {},
   "outputs": [
    {
     "name": "stdout",
     "output_type": "stream",
     "text": [
      "foo's value is 1.23\n"
     ]
    }
   ],
   "source": [
    "foo = 1.23459872843\n",
    "print(f\"foo's value is {foo:>3.2f}\")"
   ]
  },
  {
   "cell_type": "code",
   "execution_count": null,
   "metadata": {},
   "outputs": [],
   "source": []
  }
 ],
 "metadata": {
  "kernelspec": {
   "display_name": "Python 3",
   "language": "python",
   "name": "python3"
  },
  "language_info": {
   "codemirror_mode": {
    "name": "ipython",
    "version": 3
   },
   "file_extension": ".py",
   "mimetype": "text/x-python",
   "name": "python",
   "nbconvert_exporter": "python",
   "pygments_lexer": "ipython3",
   "version": "3.6.7"
  }
 },
 "nbformat": 4,
 "nbformat_minor": 2
}
