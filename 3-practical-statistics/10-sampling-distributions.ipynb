{
 "cells": [
  {
   "cell_type": "markdown",
   "metadata": {},
   "source": [
    "Descriptive Statistics is about describing our collected data. It's basically everything until this point.\n",
    "\n",
    "However, inferential statistics is about using our collected data to draw a concolusion to a larager population. Performing inferential statistics well requires that we take a sample that accurately represents our population of interest.\n",
    "\n",
    "There are four things we focus on un inferential statitistics:\n",
    "1. Population - our entire group of interest.\n",
    "2. Sample - subset of the population\n",
    "3. Statistic numeric summary about a sample\n",
    "4. Parameter - numeric summary about a population\n",
    "\n",
    "Drawing conclusions about our parameter, using statistics we have is inferential statitistcs \n",
    "\n",
    "A sampling distribution is the distribution of a statistic. \n"
   ]
  },
  {
   "cell_type": "markdown",
   "metadata": {},
   "source": [
    "Resources to read:\n",
    "* [Descriptive Statistics](https://en.wikipedia.org/wiki/Descriptive_statistics) - Wikiapedia\n",
    "* [Statistical Inference](https://en.wikipedia.org/wiki/Statistical_inference) - Wikipedia\n",
    "* [Sampling Distribution](https://www.khanacademy.org/math/ap-statistics/sampling-distribution-ap/what-is-sampling-distribution/v/introduction-to-sampling-distributions) - Khan Academy"
   ]
  },
  {
   "cell_type": "code",
   "execution_count": null,
   "metadata": {},
   "outputs": [],
   "source": []
  }
 ],
 "metadata": {
  "kernelspec": {
   "display_name": "Python 3",
   "language": "python",
   "name": "python3"
  },
  "language_info": {
   "codemirror_mode": {
    "name": "ipython",
    "version": 3
   },
   "file_extension": ".py",
   "mimetype": "text/x-python",
   "name": "python",
   "nbconvert_exporter": "python",
   "pygments_lexer": "ipython3",
   "version": "3.7.2"
  }
 },
 "nbformat": 4,
 "nbformat_minor": 2
}
