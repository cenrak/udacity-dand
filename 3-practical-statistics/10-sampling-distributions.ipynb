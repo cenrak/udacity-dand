{
 "cells": [
  {
   "cell_type": "markdown",
   "metadata": {},
   "source": [
    "Sampling Distribution, AKA Distribution of a statistics\n",
    "\n",
    "Descriptive Statistics is about describing our collected data. It's basically everything until this point.\n",
    "\n",
    "However, inferential statistics is about using our collected data to draw a concolusion to a larager population. Performing inferential statistics well requires that we take a sample that accurately represents our population of interest.\n",
    "\n",
    "There are four things we focus on un inferential statitistics:\n",
    "1. Population - our entire group of interest.\n",
    "2. Sample - subset of the population\n",
    "3. Statistic numeric summary about a sample\n",
    "4. Parameter - numeric summary about a population\n",
    "\n",
    "Drawing conclusions about our parameter, using statistics we have is inferential statitistcs \n",
    "\n",
    "A sampling distribution is the distribution of a statistic. \n",
    "\n",
    "The calculated mean of a single small sample is no where near the mean of the original set. However, with the increase number of samples, you'll get closer and closer to the mean of the original set. \n",
    "\n",
    "On the other hand, Variance and standard deviation will never get to the ones of the original set. To get a quick estimation of the variance of the sample without any calculations, just:\n",
    "1. Get the mean of the original set, and save it under `p`\n",
    "2. calculate the variance p * (1-p)\n",
    "3. Divide that by the sample size\n",
    "\n",
    "---\n",
    "\n",
    "![](notations.png)\n",
    "\n",
    "we commonly use Greek symbols as parameters and lowercase letters as the corresponding statistics.\n",
    "\n",
    "When working with sampling distribution, two mathematical theorms arise:\n",
    "1. Law of large numbers: with the increase of our sample size, the sample mean gets closer to the population mean. But how to determine if the mean we have is a good estimate? we could use\n",
    " * [Maximum Likelihood Estimation](https://en.wikipedia.org/wiki/Maximum_likelihood_estimation)\n",
    " \n",
    " * [Method of Moments Estimation](https://en.wikipedia.org/wiki/Method_of_moments_(statistics))\n",
    " \n",
    " * [Bayesian Estimation](https://en.wikipedia.org/wiki/Bayes_estimator)\n",
    " \n",
    "2. Central Limit Theorem: In probability theory, the central limit theorem (CLT) establishes that, in some situations, when independent random variables (sample mean, sample proportion, difference in sample means, difference in sample proportion)) are added, their properly normalized sum tends toward a normal distribution (informally a \"bell curve\") even if the original variables themselves are not normally distributed. [Wikipedia](https://en.wikipedia.org/wiki/Central_limit_theorem). This works once the sample size is large enough (how to know what is big?). However, distribution might look similar to the distribution of the data.\n",
    "\n",
    "Bootstrapping, or bootstrap sampling, is when the same random variables could be chosen everytime."
   ]
  },
  {
   "cell_type": "code",
   "execution_count": null,
   "metadata": {},
   "outputs": [],
   "source": []
  },
  {
   "cell_type": "markdown",
   "metadata": {},
   "source": [
    "Resources to read:\n",
    "* [Descriptive Statistics](https://en.wikipedia.org/wiki/Descriptive_statistics) - Wikiapedia\n",
    "* [Statistical Inference](https://en.wikipedia.org/wiki/Statistical_inference) - Wikipedia\n",
    "* [Sampling Distribution](https://www.khanacademy.org/math/ap-statistics/sampling-distribution-ap/what-is-sampling-distribution/v/introduction-to-sampling-distributions) - Khan Academy\n",
    "* [Central Limit Theorem](https://www.khanacademy.org/math/ap-statistics/sampling-distribution-ap/sampling-distribution-mean/v/central-limit-theorem)\n",
    "* [Sampling - Replacement](https://en.wikipedia.org/wiki/Sampling_(statistics)#Replacement_of_selected_units)\n",
    "* [Why bootstrapping works](https://stats.stackexchange.com/questions/26088/explaining-to-laypeople-why-bootstrapping-works)"
   ]
  },
  {
   "cell_type": "code",
   "execution_count": null,
   "metadata": {},
   "outputs": [],
   "source": []
  }
 ],
 "metadata": {
  "kernelspec": {
   "display_name": "Python 3",
   "language": "python",
   "name": "python3"
  },
  "language_info": {
   "codemirror_mode": {
    "name": "ipython",
    "version": 3
   },
   "file_extension": ".py",
   "mimetype": "text/x-python",
   "name": "python",
   "nbconvert_exporter": "python",
   "pygments_lexer": "ipython3",
   "version": "3.7.2"
  }
 },
 "nbformat": 4,
 "nbformat_minor": 2
}
