{
 "cells": [
  {
   "cell_type": "markdown",
   "metadata": {},
   "source": [
    "# Spread\n",
    "\n",
    "Measures of **Spread** are used to provide us an idea of how spread out our data are from one another. Common measures of spread include:\n",
    "\n",
    "* Range\n",
    "* Interquartile Range (IQR)\n",
    "* Standard Deviation\n",
    "* Variance"
   ]
  },
  {
   "cell_type": "markdown",
   "metadata": {},
   "source": [
    "Easiest approach to present the spread is to use Histogram. You can control the number of bins, however, software usually picks that for you."
   ]
  },
  {
   "cell_type": "code",
   "execution_count": 4,
   "metadata": {},
   "outputs": [
    {
     "data": {
      "text/plain": [
       "<matplotlib.axes._subplots.AxesSubplot at 0x7f557109fb38>"
      ]
     },
     "execution_count": 4,
     "metadata": {},
     "output_type": "execute_result"
    },
    {
     "data": {
      "image/png": "[encoded data removed]",
      "text/plain": [
       "<Figure size 432x288 with 1 Axes>"
      ]
     },
     "metadata": {
      "needs_background": "light"
     },
     "output_type": "display_data"
    }
   ],
   "source": [
    "import pandas as pd\n",
    "import numpy as np\n",
    "%matplotlib inline\n",
    "pd.Series(np.array([1,2,2, 4, 5, 7, 8, 9, 12, 15])).hist(bins=4)"
   ]
  },
  {
   "cell_type": "markdown",
   "metadata": {},
   "source": [
    "## Calculating the 5 number summary:\n",
    "1. Minimum: the smallest number on the dataset\n",
    "2. Q1: the value such that 25% of the data fall below\n",
    "3. Q2 (median): the value such that 50% of the data fall below\n",
    "4. Q3: the value such that 75% of the data fall below\n",
    "5. Maximum: the largest value in the dataset"
   ]
  },
  {
   "cell_type": "markdown",
   "metadata": {},
   "source": [
    "*PS*: when calculating Q1 and Q3 (which are the median of the the beggining to median (exclusive) and from the maximum to median, exclusive. For datasets that are not symmetric, the five number summary and a corresponding box plot are a great way to get started with understanding the spread of your data"
   ]
  },
  {
   "cell_type": "markdown",
   "metadata": {},
   "source": [
    "A couple of important concepts:\n",
    "1. Range: maximum - minimum\n",
    "2. IQR (Interquartile range) = $$ IQR = Q_{3} - Q_{1} $$"
   ]
  },
  {
   "cell_type": "code",
   "execution_count": 22,
   "metadata": {},
   "outputs": [
    {
     "data": {
      "text/plain": [
       "count    10.000000\n",
       "mean      6.500000\n",
       "std       4.600725\n",
       "min       1.000000\n",
       "25%       2.500000\n",
       "50%       6.000000\n",
       "75%       8.750000\n",
       "max      15.000000\n",
       "dtype: float64"
      ]
     },
     "execution_count": 22,
     "metadata": {},
     "output_type": "execute_result"
    }
   ],
   "source": [
    "pd.Series(np.array([1,2,2, 4, 5, 7, 8, 9, 12, 15])).describe()"
   ]
  },
  {
   "cell_type": "markdown",
   "metadata": {},
   "source": [
    "Box plot is another example of showing the minimum, maximum, Q1, Q2, Q3, range, and IQR in a single simple plot."
   ]
  },
  {
   "cell_type": "code",
   "execution_count": 21,
   "metadata": {},
   "outputs": [
    {
     "data": {
      "text/plain": [
       "<matplotlib.axes._subplots.AxesSubplot at 0x7f5570efc080>"
      ]
     },
     "execution_count": 21,
     "metadata": {},
     "output_type": "execute_result"
    },
    {
     "data": {
      "image/png": "[encoded data removed]",
      "text/plain": [
       "<Figure size 432x288 with 1 Axes>"
      ]
     },
     "metadata": {
      "needs_background": "light"
     },
     "output_type": "display_data"
    }
   ],
   "source": [
    "pd.Series(np.array([1,2,2, 4, 5, 7, 8, 9, 12, 15])).plot(kind='box')"
   ]
  },
  {
   "cell_type": "markdown",
   "metadata": {},
   "source": [
    "If to present all 5 numbers, along with range and IQR in a single numerical value, we could just use Standard Deviation. Standard Deviation is the average distance of each observation from the **mean**. While variance is the average *squared* difference of each observatoin from the mean.\n",
    "\n",
    "Use the below `numpy` methods to find the variance and standard deviation"
   ]
  },
  {
   "cell_type": "code",
   "execution_count": 30,
   "metadata": {},
   "outputs": [
    {
     "name": "stdout",
     "output_type": "stream",
     "text": [
      "For array [ 1  5 10  3  8 12  4], its variance is 13.55 and standard deviation is 3.68\n"
     ]
    }
   ],
   "source": [
    "a = np.array(([1, 5, 10, 3, 8, 12, 4]))\n",
    "var = a.var()\n",
    "std = a.std()\n",
    "\n",
    "print(\"For array {}, its variance is {:.2f} and standard deviation is {:.2f}\".format(a, var, std))"
   ]
  },
  {
   "cell_type": "markdown",
   "metadata": {},
   "source": [
    "A couple of notes:\n",
    "* The variance is used to compare the spread of two different groups. A set of data with higher variance is more spread out than a dataset with lower variance. Be careful though, there might just be an outlier (or outliers) that is increasing the variance, when most of the data are actually very close.\n",
    "\n",
    "* When comparing the spread between two datasets, the units of each must be the same.\n",
    "\n",
    "* When data are related to money or the economy, higher variance (or standard deviation) is associated with higher risk.\n",
    "\n",
    "* The standard deviation is used more often in practice than the variance, because it shares the units of the original dataset."
   ]
  },
  {
   "cell_type": "code",
   "execution_count": 42,
   "metadata": {},
   "outputs": [
    {
     "name": "stdout",
     "output_type": "stream",
     "text": [
      "For array [15  4  3  8 15 22  7  9  2  3  3 12  6], its variance is 33.93 and standard deviation is 5.82\n"
     ]
    }
   ],
   "source": [
    "a = np.array(([15, 4, 3, 8, 15, 22, 7, 9, 2, 3, 3, 12, 6]))\n",
    "var = a.var()\n",
    "std = a.std()\n",
    "\n",
    "print(\"For array {}, its variance is {:.2f} and standard deviation is {:.2f}\".format(a, var, std))"
   ]
  },
  {
   "cell_type": "code",
   "execution_count": 43,
   "metadata": {},
   "outputs": [
    {
     "data": {
      "text/plain": [
       "count    13.000000\n",
       "mean      8.384615\n",
       "std       6.062707\n",
       "min       2.000000\n",
       "25%       3.000000\n",
       "50%       7.000000\n",
       "75%      12.000000\n",
       "max      22.000000\n",
       "dtype: float64"
      ]
     },
     "execution_count": 43,
     "metadata": {},
     "output_type": "execute_result"
    }
   ],
   "source": [
    "pd.Series(a).describe()"
   ]
  },
  {
   "cell_type": "markdown",
   "metadata": {},
   "source": [
    "# Shapes"
   ]
  },
  {
   "cell_type": "markdown",
   "metadata": {},
   "source": [
    "There are 3 main shapes: \n",
    "* left skewed: mean less than median\n",
    "* symmetric: mean equals median. Mean and std are amazing numbers to understand the data\n",
    "* right skewed: mean greater than median\n",
    "\n",
    "PS: for left/right skewed data, the 5 number summary values is best for skewed data.\n",
    "\n",
    "PPS: Some methods to help understand whether or not the data are normally distrbuted are: normal quantile plot, kolmogorov-smirnov test\n",
    "\n",
    "![](shape-01.png)\n"
   ]
  },
  {
   "cell_type": "markdown",
   "metadata": {},
   "source": [
    "Right skewed:"
   ]
  },
  {
   "cell_type": "code",
   "execution_count": 54,
   "metadata": {},
   "outputs": [
    {
     "data": {
      "image/png": "[encoded data removed]",
      "text/plain": [
       "<Figure size 432x288 with 1 Axes>"
      ]
     },
     "metadata": {
      "needs_background": "light"
     },
     "output_type": "display_data"
    }
   ],
   "source": [
    "l = list()\n",
    "for i in range(5): l += [i] * (5 - i)\n",
    "pd.Series(l).hist();"
   ]
  },
  {
   "cell_type": "markdown",
   "metadata": {},
   "source": [
    "The right side is less than the left side."
   ]
  },
  {
   "cell_type": "code",
   "execution_count": 55,
   "metadata": {},
   "outputs": [
    {
     "data": {
      "image/png": "[encoded data removed]",
      "text/plain": [
       "<Figure size 432x288 with 1 Axes>"
      ]
     },
     "metadata": {
      "needs_background": "light"
     },
     "output_type": "display_data"
    }
   ],
   "source": [
    "pd.Series(l).plot(kind='box');"
   ]
  },
  {
   "cell_type": "markdown",
   "metadata": {},
   "source": [
    "PS: to rotate later :)\n",
    "\n",
    "Nevertheless, the right side of the box plot is larger than the left side. \n",
    "\n",
    "![](shape-03.png)"
   ]
  },
  {
   "cell_type": "markdown",
   "metadata": {},
   "source": [
    "# Outliers"
   ]
  },
  {
   "cell_type": "markdown",
   "metadata": {},
   "source": [
    "* Median is a better approach to get deal with the mean if there are outliers. Moreover, outliers increase standard deviation which makes it a wrong representation of data spread\n",
    "* The best and fastest approach to look for outliers is to plot the dataset\n",
    "* Remove/fix them before working on results\n",
    "* The 5 number summary is better indication than measuring mean and std when outliers exist"
   ]
  },
  {
   "cell_type": "markdown",
   "metadata": {},
   "source": [
    "# Inferential Statistics\n",
    "\n",
    "Descriptive Statistics\n",
    "Descriptive statistics is about describing our collected data using the measures discussed throughout this lesson: measures of center, measures of spread, shape of our distribution, and outliers. We can also use plots of our data to gain a better understanding.\n",
    "\n",
    "Inferential Statistics\n",
    "Inferential Statistics is about using our collected data to draw conclusions to a larger population. Performing inferential statistics well requires that we take a sample that accurately represents our population of interest.\n",
    "\n",
    "A common way to collect data is via a survey. However, surveys may be extremely biased depending on the types of questions that are asked, and the way the questions are asked. This is a topic you should think about when tackling the first project.\n",
    "\n",
    "We looked at specific examples that allowed us to identify the\n",
    "\n",
    "* Population - our entire group of interest.\n",
    "* Parameter - numeric summary about a population\n",
    "* Sample - subset of the population\n",
    "* Statistic numeric summary about a sample"
   ]
  },
  {
   "cell_type": "code",
   "execution_count": null,
   "metadata": {},
   "outputs": [],
   "source": []
  }
 ],
 "metadata": {
  "kernelspec": {
   "display_name": "Python 3",
   "language": "python",
   "name": "python3"
  },
  "language_info": {
   "codemirror_mode": {
    "name": "ipython",
    "version": 3
   },
   "file_extension": ".py",
   "mimetype": "text/x-python",
   "name": "python",
   "nbconvert_exporter": "python",
   "pygments_lexer": "ipython3",
   "version": "3.6.7"
  }
 },
 "nbformat": 4,
 "nbformat_minor": 2
}
