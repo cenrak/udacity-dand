{
 "cells": [
  {
   "cell_type": "markdown",
   "metadata": {},
   "source": [
    "The response variable is what you want to predict, while the explanatory variable is the variable you use to predict the response.  A common way to visualize the relationship between two variables in linear regression is using a scatterplot.\n",
    "\n",
    "Scatter plots are a common visual for comparing two quantitative variables. A common summary statistic that relates to a scatter plot is the correlation coefficient commonly denoted by r.\n",
    "\n",
    "Though there are a few different ways to measure correlation between two variables, the most common way is with Pearson's correlation coefficient. Pearson's correlation coefficient provides the:\n",
    "\n",
    "Strength\n",
    "Direction\n",
    "of a linear relationship. Spearman's Correlation Coefficient does not measure linear relationships specifically, and it might be more appropriate for certain cases of associating two variables.\n",
    "\n",
    "The intercept is defined as the predicted value of the response when the x-variable is zero.\n",
    "\n",
    "The slope is defined as the predicted change in the response for every one unit increase in the x-variable.\n",
    "\n",
    "The main algorithm used to find the best fit line is called the least-squares algorithm, which finds the line that minimizes $$ \\sum\\limits_{i=1}^n(y_i - \\hat{y_i})^2 $$"
   ]
  },
  {
   "cell_type": "code",
   "execution_count": null,
   "metadata": {},
   "outputs": [],
   "source": [
    "import pandas as pd\n",
    "import statsmodels.api as sm\n",
    "\n",
    "df = pd.read_csv('data')\n",
    "df['intercept'] = 1 # why: https://stats.stackexchange.com/questions/7948/when-is-it-ok-to-remove-the-intercept-in-a-linear-regression-model\n",
    "lm = sm.OLS(df['price'], df[['intercept', 'area']])\n",
    "result = lm.fit()\n",
    "result.summary()"
   ]
  },
  {
   "cell_type": "code",
   "execution_count": null,
   "metadata": {},
   "outputs": [],
   "source": []
  }
 ],
 "metadata": {
  "kernelspec": {
   "display_name": "Python 3",
   "language": "python",
   "name": "python3"
  },
  "language_info": {
   "codemirror_mode": {
    "name": "ipython",
    "version": 3
   },
   "file_extension": ".py",
   "mimetype": "text/x-python",
   "name": "python",
   "nbconvert_exporter": "python",
   "pygments_lexer": "ipython3",
   "version": "3.7.3"
  }
 },
 "nbformat": 4,
 "nbformat_minor": 2
}
