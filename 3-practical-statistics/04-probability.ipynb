{
 "cells": [
  {
   "cell_type": "markdown",
   "metadata": {},
   "source": [
    "[Probability deals with predicting the likelihood of future events, while statistics involves the analysis of the frequency of past events.](https://www3.cs.stonybrook.edu/~skiena/jaialai/excerpts/node12.html)\n"
   ]
  },
  {
   "cell_type": "markdown",
   "metadata": {},
   "source": [
    "For a fair coin:\n",
    "* P(Head) = 0.5\n",
    "* P(Tail) = 0.5\n",
    "\n",
    "For a loaded coin (always on heads)\n",
    "* P(Head) = 1\n",
    "* P(Tail) = 0"
   ]
  },
  {
   "cell_type": "code",
   "execution_count": null,
   "metadata": {},
   "outputs": [],
   "source": []
  }
 ],
 "metadata": {
  "kernelspec": {
   "display_name": "Python 3",
   "language": "python",
   "name": "python3"
  },
  "language_info": {
   "codemirror_mode": {
    "name": "ipython",
    "version": 3
   },
   "file_extension": ".py",
   "mimetype": "text/x-python",
   "name": "python",
   "nbconvert_exporter": "python",
   "pygments_lexer": "ipython3",
   "version": "3.6.7"
  }
 },
 "nbformat": 4,
 "nbformat_minor": 2
}
