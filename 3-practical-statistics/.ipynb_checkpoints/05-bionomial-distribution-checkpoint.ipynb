{
 "cells": [
  {
   "cell_type": "markdown",
   "metadata": {},
   "source": [
    "The Binomial Distribution helps us determine the probability of a string of independent 'coin flip like events'.\n",
    "\n",
    "$$ P(X = k) = \\frac{n!}{(n-k)!k1} \\cdot p^{k}(1-p)^{(n-k)} $$\n",
    "\n",
    "where n is the number of events, k is the number of \"successes\", and p is the probability of \"success\".\n",
    "\n",
    "_PS: Lecture 13 is really usefull to demonstrate how to use Bionomial Distribution_"
   ]
  },
  {
   "cell_type": "code",
   "execution_count": 10,
   "metadata": {},
   "outputs": [
    {
     "name": "stdout",
     "output_type": "stream",
     "text": [
      "6\n"
     ]
    }
   ],
   "source": [
    "# How many Heads == Tails if a coin is tossed 4 times\n",
    "import itertools\n",
    "s = 0\n",
    "for p in itertools.product('HT', repeat=4):\n",
    "    if p.count('H') == 2: s += 1\n",
    "        \n",
    "print(s)"
   ]
  },
  {
   "cell_type": "code",
   "execution_count": 9,
   "metadata": {},
   "outputs": [
    {
     "name": "stdout",
     "output_type": "stream",
     "text": [
      "10\n"
     ]
    }
   ],
   "source": [
    "# How many exactly 2 Heads if a coin is tossed 5 times\n",
    "import itertools\n",
    "s = 0\n",
    "for p in itertools.product('HT', repeat=5):\n",
    "    if p.count('H') == 2: s += 1\n",
    "\n",
    "print(s)"
   ]
  },
  {
   "cell_type": "markdown",
   "metadata": {},
   "source": [
    "To find the probability, divide that by the number of total number of outcomes of flipping the coin (2 outcomes -Head, Tail- in 5 flips = 2^5 = 32. So the probability of having exacly 2 heads if a coin is flipped 5 times is 10/32"
   ]
  },
  {
   "cell_type": "markdown",
   "metadata": {},
   "source": [
    "Which in, bionomial coefficient, 5 tosses where 2 of them are heads:\n",
    "$$ {5\\choose 2} $$\n",
    "\n",
    "So, one use case of using bionomial distrobution is where order is not a must."
   ]
  },
  {
   "cell_type": "code",
   "execution_count": 14,
   "metadata": {},
   "outputs": [
    {
     "name": "stdout",
     "output_type": "stream",
     "text": [
      "Compination is ('H', 'H', 'H') with 0.512 probabbility\n",
      "Compination is ('H', 'H', 'T') with 0.128 probabbility\n",
      "Compination is ('H', 'T', 'H') with 0.128 probabbility\n",
      "Compination is ('H', 'T', 'T') with 0.032 probabbility\n",
      "Compination is ('T', 'H', 'H') with 0.128 probabbility\n",
      "Compination is ('T', 'H', 'T') with 0.032 probabbility\n",
      "Compination is ('T', 'T', 'H') with 0.032 probabbility\n",
      "Compination is ('T', 'T', 'T') with 0.008 probabbility\n"
     ]
    }
   ],
   "source": [
    "import itertools\n",
    "\n",
    "head_probability = 0.8\n",
    "tail_probability = 1 - head_probability\n",
    "s = 0\n",
    "\n",
    "for p in itertools.product('HT', repeat=3):\n",
    "    result = 1        \n",
    "    for face in p:\n",
    "        result *= head_probability if face is 'H' else tail_probability\n",
    "    s += result\n",
    "    print(\"Compination is {} with {:.3f} probabbility\".format(p, result))\n",
    "    "
   ]
  },
  {
   "cell_type": "markdown",
   "metadata": {},
   "source": [
    "Materials to read:\n",
    "* [Bionomial Distribution](https://en.wikipedia.org/wiki/Binomial_distribution) - Wikipedia\n",
    "* [Bionomial Distribution](https://www.khanacademy.org/math/statistics-probability/random-variables-stats-library/binomial-random-variables/v/binomial-distribution) - Khan Academy\n",
    "* [Example: Combinatorics and probability](https://www.khanacademy.org/math/precalculus/prob-comb/prob-combinatorics-precalc/v/probability-of-dependent-events-2?utm_account=Grant&utm_campaignname=Grant_Math_Dynamic&gclid=Cj0KCQjw4-XlBRDuARIsAK96p3Bzj4mWn2_NumV1Ba_RHz_THZYHabe9taPOSyUIterk4THe1_0C9n0aAkpHEALw_wcB\n",
    ")\n",
    "* https://docs.scipy.org/doc/numpy/reference/generated/numpy.random.binomial.html\n",
    "* https://docs.scipy.org/doc/scipy/reference/generated/scipy.stats.binom.html\n",
    "* 13: Quiz: Bionomial 4\n",
    "* [Probability Mass Function](https://en.wikipedia.org/wiki/Probability_mass_function) - Wikipedia"
   ]
  },
  {
   "cell_type": "code",
   "execution_count": null,
   "metadata": {},
   "outputs": [],
   "source": []
  }
 ],
 "metadata": {
  "kernelspec": {
   "display_name": "Python 3",
   "language": "python",
   "name": "python3"
  },
  "language_info": {
   "codemirror_mode": {
    "name": "ipython",
    "version": 3
   },
   "file_extension": ".py",
   "mimetype": "text/x-python",
   "name": "python",
   "nbconvert_exporter": "python",
   "pygments_lexer": "ipython3",
   "version": "3.6.7"
  }
 },
 "nbformat": 4,
 "nbformat_minor": 2
}
