{
 "cells": [
  {
   "cell_type": "markdown",
   "metadata": {},
   "source": [
    "There are two types of data:\n",
    "1. Quantitative data takes on numeric values that allow us to perform mathematical operations (like the number of dogs).\n",
    "2. Categorical are used to label a group or set of items (like dog breeds - Collies, Labs, Poodles, etc.)."
   ]
  },
  {
   "cell_type": "markdown",
   "metadata": {},
   "source": [
    "We can divide categorical data even further:\n",
    "1. Categorical Ordinal (ordered) data take on a ranked ordering (like a ranked interactCategorical Nominal data do not have an order or ranking (like the breeds of the dog)\n",
    "2. Categorical Nominal (no order) data do not have an order or ranking (like the breeds of the dog)."
   ]
  },
  {
   "cell_type": "markdown",
   "metadata": {},
   "source": [
    "PS: for categorical data, we usually look for frequency (count or percentage)"
   ]
  },
  {
   "cell_type": "markdown",
   "metadata": {},
   "source": [
    "For the quantitiva date:\n",
    "1. Continuous data can be split into smaller and smaller units, and still a smaller unit exists. An example of this is the age of the dog - we can measure the units of the age in years, months, days, hours, seconds, but there are still smaller units that could be associated with the age.\n",
    "2. Discrete data only takes on countable values. The number of dogs we interact with is an example of a discrete data type."
   ]
  },
  {
   "cell_type": "markdown",
   "metadata": {},
   "source": [
    "There are four main aspects to analyze quantitivate data:\n",
    "* Center:\n",
    "    * Mean, or usally referred to as \"Expected value\". It could give us fractions\n",
    "    * Median:\n",
    "        * Odd # of data: select the middle number\n",
    "        * Even # of data: take average of middle numbers\n",
    "    * Mode: the most frequent observed value\n",
    "        * If no observed frequent value, then no mode is there\n",
    "* Spread:\n",
    "* Shape\n",
    "* Outliers:"
   ]
  },
  {
   "cell_type": "code",
   "execution_count": 26,
   "metadata": {},
   "outputs": [],
   "source": [
    "import numpy as np\n",
    "from scipy import stats"
   ]
  },
  {
   "cell_type": "code",
   "execution_count": 52,
   "metadata": {},
   "outputs": [
    {
     "name": "stdout",
     "output_type": "stream",
     "text": [
      "Mean = 9.60\n",
      "Median = 9.00\n",
      "Mode = ModeResult(mode=array([10]), count=array([2]))\n"
     ]
    }
   ],
   "source": [
    "a = np.array([5, 8, 15, 7, 10, 22, 3, 1, 15, 10])\n",
    "\n",
    "print(\"Mean = {:.2f}\".format(np.mean(a)))\n",
    "print(\"Median = {:.2f}\".format(np.median(a)))\n",
    "print(\"Mode = {}\".format(stats.mode(a))) # it could return multiple modes"
   ]
  },
  {
   "cell_type": "markdown",
   "metadata": {},
   "source": [
    "#### Some Notations\n",
    "* Random Variable: A random variable is a placeholder for the possible values of some process, represented by capital letters. (vertical/columns)\n",
    "* Rows are called instances or individuals \n",
    "* Observed value is an instance of a random variable"
   ]
  },
  {
   "cell_type": "markdown",
   "metadata": {},
   "source": [
    "$$ \\bar{x} =  \\frac{1}{n} \\sum_{i=1}^{n} x_{i} $$"
   ]
  },
  {
   "cell_type": "code",
   "execution_count": null,
   "metadata": {},
   "outputs": [],
   "source": []
  }
 ],
 "metadata": {
  "kernelspec": {
   "display_name": "Python 3",
   "language": "python",
   "name": "python3"
  },
  "language_info": {
   "codemirror_mode": {
    "name": "ipython",
    "version": 3
   },
   "file_extension": ".py",
   "mimetype": "text/x-python",
   "name": "python",
   "nbconvert_exporter": "python",
   "pygments_lexer": "ipython3",
   "version": "3.6.7"
  }
 },
 "nbformat": 4,
 "nbformat_minor": 2
}
