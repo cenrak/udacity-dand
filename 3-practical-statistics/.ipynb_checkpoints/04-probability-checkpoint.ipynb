{
 "cells": [
  {
   "cell_type": "markdown",
   "metadata": {},
   "source": [
    "[Probability deals with predicting the likelihood of future events, while statistics involves the analysis of the frequency of past events.](https://www3.cs.stonybrook.edu/~skiena/jaialai/excerpts/node12.html)\n"
   ]
  },
  {
   "cell_type": "markdown",
   "metadata": {},
   "source": [
    "For a fair coin:\n",
    "* P(Head) = 0.5\n",
    "* P(Tail) = 0.5\n",
    "\n",
    "For a loaded coin (always on heads)\n",
    "* P(Head) = 1\n",
    "* P(Tail) = 0\n",
    "\n",
    "$$ P(A) = 1 - P(\\neg A) $$"
   ]
  },
  {
   "cell_type": "markdown",
   "metadata": {},
   "source": [
    "Here's a quick example to calculate the probability of having exactly 1 head in a 3-flip experiment (composition probability)"
   ]
  },
  {
   "cell_type": "code",
   "execution_count": 35,
   "metadata": {},
   "outputs": [
    {
     "name": "stdout",
     "output_type": "stream",
     "text": [
      "Compination is ('H', 'H', 'H') with 0.216 probabbility\n",
      "Compination is ('H', 'H', 'T') with 0.144 probabbility\n",
      "Compination is ('H', 'T', 'H') with 0.144 probabbility\n",
      "Compination is ('H', 'T', 'T') with 0.096 probabbility\n",
      "Compination is ('T', 'H', 'H') with 0.144 probabbility\n",
      "Compination is ('T', 'H', 'T') with 0.096 probabbility\n",
      "Compination is ('T', 'T', 'H') with 0.096 probabbility\n",
      "Compination is ('T', 'T', 'T') with 0.064 probabbility\n"
     ]
    }
   ],
   "source": [
    "import itertools\n",
    "\n",
    "head_probability = 0.6\n",
    "tail_probability = 1 - head_probability\n",
    "s = 0\n",
    "\n",
    "for p in itertools.product('HT', repeat=3):\n",
    "    result = 1        \n",
    "    for face in p:\n",
    "        result *= head_probability if face is 'H' else tail_probability\n",
    "    s += result\n",
    "    print(\"Compination is {} with {:.3f} probabbility\".format(p, result))\n",
    "    \n"
   ]
  },
  {
   "cell_type": "code",
   "execution_count": null,
   "metadata": {},
   "outputs": [],
   "source": []
  }
 ],
 "metadata": {
  "kernelspec": {
   "display_name": "Python 3",
   "language": "python",
   "name": "python3"
  },
  "language_info": {
   "codemirror_mode": {
    "name": "ipython",
    "version": 3
   },
   "file_extension": ".py",
   "mimetype": "text/x-python",
   "name": "python",
   "nbconvert_exporter": "python",
   "pygments_lexer": "ipython3",
   "version": "3.6.7"
  }
 },
 "nbformat": 4,
 "nbformat_minor": 2
}
