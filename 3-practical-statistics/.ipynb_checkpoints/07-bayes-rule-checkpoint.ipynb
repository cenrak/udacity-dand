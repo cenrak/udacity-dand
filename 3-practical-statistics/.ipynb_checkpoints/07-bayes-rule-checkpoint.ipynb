{
 "cells": [
  {
   "cell_type": "markdown",
   "metadata": {},
   "source": [
    "\n",
    "Sensitivity: (also called the true positive rate, the recall, or probability of detection in some fields) \n",
    "\n",
    "specificity:  (also called the true negative rate) \n",
    "\n",
    "![](350px-Sensitivity_and_specificity.svg.png)\n",
    "\n",
    "\n",
    "Here's maybe a better way to visualize computing Bayes rule ![](bayes-rule.png)\n",
    "\n",
    "Another summary ![](bayes-rule-summary.png)\n",
    "\n",
    "This example would make it a bit easier to grash, however, you need to look into `Robot Sensing 1` session for more notes:\n",
    "1. Prior Probabilities:\n",
    "$$ P(@ red) = 0.5 $$\n",
    "$$ P(@ green) = 0.5 $$\n",
    "\n",
    "2. Conditional Probabilities:\n",
    "$$ P(see\\_red | @ red) = 0.8  $$\n",
    "$$ P(see\\_green | @ green ) = 0.8 $$\n",
    "\n",
    "We calculate the following:\n",
    "$$ P(see\\_greed | @ red) = 1 - P(see\\_red | @ red) = 0.2  $$\n",
    "$$ P(see\\_red | @ green ) = 1 - P(see\\_green | @ green ) = 0.2 $$\n",
    "\n",
    "\n",
    "3. Posterior Probabilities:\n",
    "$$ P(@ red | see\\_red) $$\n",
    "$$P(@ green | see\\_green) $$\n",
    "\n",
    "Based on Bayes rule:\n",
    "$$ P(A|B) = \\frac{P(B|A) \\cdot P(A)}{P(B)} $$\n",
    "\n",
    "We get:\n",
    "$$ P(@ red | see\\_red) = \\frac{P(see\\_red | @ red) \\cdot P(@ red)}{P(see\\_red)} $$\n",
    "\n",
    "We just need to calculate `P(see red)`, which is:\n",
    "\n",
    "$$ P(see\\_red) = P(@red)\\cdot P(see\\_red | @ red) + P(@ green) \\cdot P(see\\_red | @ green ) $$"
   ]
  },
  {
   "cell_type": "code",
   "execution_count": null,
   "metadata": {},
   "outputs": [],
   "source": []
  },
  {
   "cell_type": "markdown",
   "metadata": {},
   "source": [
    "Material to read:\n",
    "* [Sensitivity and specificity](https://en.wikipedia.org/wiki/Sensitivity_and_specificity) - Wikipedia\n",
    "* [Bayes' Theorem](https://en.wikipedia.org/wiki/Bayes%27_theorem) - Wikipedia\n",
    "* [An Intuitive (and Short) Explanation of Bayes’ Theorem](https://betterexplained.com/articles/an-intuitive-and-short-explanation-of-bayes-theorem/)\n",
    "* [Conditional probability with Bayes' Theorem](https://www.khanacademy.org/math/ap-statistics/probability-ap/stats-conditional-probability/v/bayes-theorem-visualized?utm_account=Grant&utm_campaignname=Grant_Math_Dynamic&gclid=Cj0KCQjw4-XlBRDuARIsAK96p3Dl-J2z5uOMdEi1UK4CKmTgbGY20yrPiBJGiKGkcPmquuuTrLk7x0MaAv3lEALw_wcB) - Khan Academy\n",
    "* [Bayes' Theorem](https://brilliant.org/wiki/bayes-theorem/) - Brilliant \n",
    "* [Bayes' Theorem](http://mathworld.wolfram.com/BayesTheorem.html) - Wolfram\n",
    "* [Bayes Theorem](https://www.khanacademy.org/partner-content/wi-phi/wiphi-critical-thinking/wiphi-fundamentals/v/bayes-theorem) - Khan Academy\n",
    "* https://www.youtube.com/watch?v=R13BD8qKeTg\n",
    "* https://www.quora.com/What-is-the-basic-difference-between-conditional-probability-Bayes-theorem-and-the-law-of-Total-Probability\n",
    "* https://towardsdatascience.com/probability-for-data-science-9770b26643d0\n",
    "* https://www.youtube.com/watch?v=BrK7X_XlGB8\n",
    "* https://en.wikipedia.org/wiki/Sensitivity_and_specificity\n",
    "* https://www.statisticshowto.datasciencecentral.com/total-probability-rule/\n",
    "* https://www.youtube.com/watch?v=d4WZHz1arG8"
   ]
  },
  {
   "cell_type": "code",
   "execution_count": null,
   "metadata": {},
   "outputs": [],
   "source": []
  }
 ],
 "metadata": {
  "kernelspec": {
   "display_name": "Python 3",
   "language": "python",
   "name": "python3"
  },
  "language_info": {
   "codemirror_mode": {
    "name": "ipython",
    "version": 3
   },
   "file_extension": ".py",
   "mimetype": "text/x-python",
   "name": "python",
   "nbconvert_exporter": "python",
   "pygments_lexer": "ipython3",
   "version": "3.7.2"
  }
 },
 "nbformat": 4,
 "nbformat_minor": 2
}
