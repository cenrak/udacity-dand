{
 "cells": [
  {
   "cell_type": "code",
   "execution_count": null,
   "metadata": {},
   "outputs": [],
   "source": []
  },
  {
   "cell_type": "markdown",
   "metadata": {},
   "source": [
    "Material to read:\n",
    "* [Bayes' Theorem](https://en.wikipedia.org/wiki/Bayes%27_theorem) - Wikipedia\n",
    "* [An Intuitive (and Short) Explanation of Bayes’ Theorem](https://betterexplained.com/articles/an-intuitive-and-short-explanation-of-bayes-theorem/)\n",
    "* [Conditional probability with Bayes' Theorem](https://www.khanacademy.org/math/ap-statistics/probability-ap/stats-conditional-probability/v/bayes-theorem-visualized?utm_account=Grant&utm_campaignname=Grant_Math_Dynamic&gclid=Cj0KCQjw4-XlBRDuARIsAK96p3Dl-J2z5uOMdEi1UK4CKmTgbGY20yrPiBJGiKGkcPmquuuTrLk7x0MaAv3lEALw_wcB) - Khan Academy\n",
    "* [Bayes' Theorem](https://brilliant.org/wiki/bayes-theorem/) - Brilliant \n",
    "* [Bayes' Theorem](http://mathworld.wolfram.com/BayesTheorem.html) - Wolfram\n",
    "* [Bayes Theorem](https://www.khanacademy.org/partner-content/wi-phi/wiphi-critical-thinking/wiphi-fundamentals/v/bayes-theorem) - Khan Academy\n",
    "* https://www.youtube.com/watch?v=R13BD8qKeTg\n",
    "* https://www.quora.com/What-is-the-basic-difference-between-conditional-probability-Bayes-theorem-and-the-law-of-Total-Probability\n",
    "* https://towardsdatascience.com/probability-for-data-science-9770b26643d0\n",
    "* https://www.youtube.com/watch?v=BrK7X_XlGB8\n",
    "* https://en.wikipedia.org/wiki/Sensitivity_and_specificity\n",
    "* https://www.statisticshowto.datasciencecentral.com/total-probability-rule/\n",
    "* https://www.youtube.com/watch?v=d4WZHz1arG8"
   ]
  },
  {
   "cell_type": "code",
   "execution_count": null,
   "metadata": {},
   "outputs": [],
   "source": []
  }
 ],
 "metadata": {
  "kernelspec": {
   "display_name": "Python 3",
   "language": "python",
   "name": "python3"
  },
  "language_info": {
   "codemirror_mode": {
    "name": "ipython",
    "version": 3
   },
   "file_extension": ".py",
   "mimetype": "text/x-python",
   "name": "python",
   "nbconvert_exporter": "python",
   "pygments_lexer": "ipython3",
   "version": "3.6.7"
  }
 },
 "nbformat": 4,
 "nbformat_minor": 2
}
