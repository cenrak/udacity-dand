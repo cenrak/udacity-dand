{
 "cells": [
  {
   "cell_type": "markdown",
   "metadata": {},
   "source": [
    "An example of conditional probability:\n",
    "1. $$ P( CANCEr ) = 0.1 $$\n",
    "2. $$ P( \\neg CANCER ) = 0.9 $$\n",
    "3. $$ P(POSITIVE | CANCER) = 0.9 $$\n",
    "4. $$ P(NEGATIVE | CANCER) = 0.1 $$\n",
    "5. $$ P(POSITIVE | \\neg CANCER) = 0.2 $$\n",
    "6. $$ P(NEGATIVE | \\neg CANCER) = 0.8 $$\n",
    "\n",
    "In equations 3 and 4, their meaning is:\n",
    "3. What is the probability of a positive result, given the patient has cancer?\n",
    "4. What is the probability of a negative result, given the patient has cancer?\n",
    "\n",
    "_PS: probabilites must add on to 1_\n",
    "\n",
    "An example, the probability of a person who was diagnosed with cancer and has a positive result is P(CENCER) * P(POSITIVE|CANCER) = 0.1 * 0.9 = 0.09. \n",
    "\n",
    "Another example, P(POSITIVE) is (P(CANCER) * P(POSITIVE|CANCER)) + (P(NOT CANCER) * P(POSITIVE|NOT CANCER)) = 0.09 + 0.18 = 0.27"
   ]
  },
  {
   "cell_type": "markdown",
   "metadata": {},
   "source": [
    "Materials:\n",
    "* [Law of total probability](https://en.wikipedia.org/wiki/Law_of_total_probability)"
   ]
  },
  {
   "cell_type": "code",
   "execution_count": null,
   "metadata": {},
   "outputs": [],
   "source": []
  }
 ],
 "metadata": {
  "kernelspec": {
   "display_name": "Python 3",
   "language": "python",
   "name": "python3"
  },
  "language_info": {
   "codemirror_mode": {
    "name": "ipython",
    "version": 3
   },
   "file_extension": ".py",
   "mimetype": "text/x-python",
   "name": "python",
   "nbconvert_exporter": "python",
   "pygments_lexer": "ipython3",
   "version": "3.6.7"
  }
 },
 "nbformat": 4,
 "nbformat_minor": 2
}
