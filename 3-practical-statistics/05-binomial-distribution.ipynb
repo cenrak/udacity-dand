{
 "cells": [
  {
   "cell_type": "markdown",
   "metadata": {},
   "source": [
    "The Binomial Distribution helps us determine the probability of a string of independent 'coin flip like events'.\n",
    "\n",
    "$$ P(X = k) = \\binom{n}{k} \\cdot p^{k}p^{n-k} $$\n",
    "\n",
    "where n is the number of events, k is the number of \"successes\", and p is the probability of \"success\".\n",
    "\n",
    "Example: n = number of flips, k is number of heads, and P is the probability of getting a head\n",
    "\n",
    "_PS: Lecture 13 is really usefull to demonstrate how to use Binomial Distribution_, and [Video](https://www.khanacademy.org/math/statistics-probability/random-variables-stats-library/binomial-random-variables/v/probability-of-making-2-shots-in-6-attempts) is really helpful "
   ]
  },
  {
   "cell_type": "code",
   "execution_count": 10,
   "metadata": {},
   "outputs": [
    {
     "name": "stdout",
     "output_type": "stream",
     "text": [
      "6\n"
     ]
    }
   ],
   "source": [
    "# How many Heads == Tails if a coin is tossed 4 times\n",
    "import itertools\n",
    "s = 0\n",
    "for p in itertools.product('HT', repeat=4):\n",
    "    if p.count('H') == 2: s += 1\n",
    "        \n",
    "print(s)"
   ]
  },
  {
   "cell_type": "code",
   "execution_count": 9,
   "metadata": {},
   "outputs": [
    {
     "name": "stdout",
     "output_type": "stream",
     "text": [
      "10\n"
     ]
    }
   ],
   "source": [
    "# How many exactly 2 Heads if a coin is tossed 5 times\n",
    "import itertools\n",
    "s = 0\n",
    "for p in itertools.product('HT', repeat=5):\n",
    "    if p.count('H') == 2: s += 1\n",
    "\n",
    "print(s)"
   ]
  },
  {
   "cell_type": "markdown",
   "metadata": {},
   "source": [
    "To find the probability, divide that by the number of total number of outcomes of flipping the coin (2 outcomes -Head, Tail- in 5 flips = 2^5 = 32. So the probability of having exacly 2 heads if a coin is flipped 5 times is 10/32"
   ]
  },
  {
   "cell_type": "markdown",
   "metadata": {},
   "source": [
    "Which in, binomial coefficient, 5 tosses where 2 of them are heads:\n",
    "$$ {5\\choose 2} $$\n",
    "\n",
    "So, one use case of using binomial distrobution is where order is not a must."
   ]
  },
  {
   "cell_type": "code",
   "execution_count": 14,
   "metadata": {},
   "outputs": [
    {
     "name": "stdout",
     "output_type": "stream",
     "text": [
      "Compination is ('H', 'H', 'H') with 0.512 probabbility\n",
      "Compination is ('H', 'H', 'T') with 0.128 probabbility\n",
      "Compination is ('H', 'T', 'H') with 0.128 probabbility\n",
      "Compination is ('H', 'T', 'T') with 0.032 probabbility\n",
      "Compination is ('T', 'H', 'H') with 0.128 probabbility\n",
      "Compination is ('T', 'H', 'T') with 0.032 probabbility\n",
      "Compination is ('T', 'T', 'H') with 0.032 probabbility\n",
      "Compination is ('T', 'T', 'T') with 0.008 probabbility\n"
     ]
    }
   ],
   "source": [
    "import itertools\n",
    "\n",
    "head_probability = 0.8\n",
    "tail_probability = 1 - head_probability\n",
    "s = 0\n",
    "\n",
    "for p in itertools.product('HT', repeat=3):\n",
    "    result = 1        \n",
    "    for face in p:\n",
    "        result *= head_probability if face is 'H' else tail_probability\n",
    "    s += result\n",
    "    print(\"Compination is {} with {:.3f} probabbility\".format(p, result))\n",
    "    "
   ]
  },
  {
   "cell_type": "markdown",
   "metadata": {},
   "source": [
    "Below code will give random numbers, uniformally distributed"
   ]
  },
  {
   "cell_type": "code",
   "execution_count": 21,
   "metadata": {},
   "outputs": [
    {
     "data": {
      "text/plain": [
       "(array([106.,  95., 101., 100., 108.,  95., 105.,  87.,  94., 109.]),\n",
       " array([0. , 0.9, 1.8, 2.7, 3.6, 4.5, 5.4, 6.3, 7.2, 8.1, 9. ]),\n",
       " <a list of 10 Patch objects>)"
      ]
     },
     "execution_count": 21,
     "metadata": {},
     "output_type": "execute_result"
    },
    {
     "data": {
      "image/png": "[encoded data removed]",
      "text/plain": [
       "<Figure size 432x288 with 1 Axes>"
      ]
     },
     "metadata": {
      "needs_background": "light"
     },
     "output_type": "display_data"
    }
   ],
   "source": [
    "import numpy as np\n",
    "import matplotlib.pyplot as plt\n",
    "%matplotlib inline\n",
    "\n",
    "plt.hist(np.random.randint(10, size=1000))"
   ]
  },
  {
   "cell_type": "markdown",
   "metadata": {},
   "source": [
    "This piece of code will give a normally distributed random numnbers"
   ]
  },
  {
   "cell_type": "code",
   "execution_count": 22,
   "metadata": {},
   "outputs": [
    {
     "data": {
      "text/plain": [
       "(array([  1.,   4.,  46., 116., 216., 264., 226., 102.,  20.,   5.]),\n",
       " array([ 6.25715294,  6.93913076,  7.62110858,  8.3030864 ,  8.98506421,\n",
       "         9.66704203, 10.34901985, 11.03099767, 11.71297549, 12.3949533 ,\n",
       "        13.07693112]),\n",
       " <a list of 10 Patch objects>)"
      ]
     },
     "execution_count": 22,
     "metadata": {},
     "output_type": "execute_result"
    },
    {
     "data": {
      "image/png": "[encoded data removed]",
      "text/plain": [
       "<Figure size 432x288 with 1 Axes>"
      ]
     },
     "metadata": {
      "needs_background": "light"
     },
     "output_type": "display_data"
    }
   ],
   "source": [
    "import numpy as np\n",
    "import matplotlib.pyplot as plt\n",
    "%matplotlib inline\n",
    "\n",
    "plt.hist(np.random.normal(10, size=1000))"
   ]
  },
  {
   "cell_type": "markdown",
   "metadata": {},
   "source": [
    "PS: Binomial dstribution is like the discrete version of normal distribution."
   ]
  },
  {
   "cell_type": "markdown",
   "metadata": {},
   "source": [
    "Materials to read:\n",
    "* [Binomial Distribution](https://en.wikipedia.org/wiki/Binomial_distribution) - Wikipedia\n",
    "* [Binomial Distribution](https://www.khanacademy.org/math/statistics-probability/random-variables-stats-library/binomial-random-variables/v/binomial-distribution) - Khan Academy\n",
    "* [Example: Combinatorics and probability](https://www.khanacademy.org/math/precalculus/prob-comb/prob-combinatorics-precalc/v/probability-of-dependent-events-2?utm_account=Grant&utm_campaignname=Grant_Math_Dynamic&gclid=Cj0KCQjw4-XlBRDuARIsAK96p3Bzj4mWn2_NumV1Ba_RHz_THZYHabe9taPOSyUIterk4THe1_0C9n0aAkpHEALw_wcB\n",
    ")\n",
    "* https://docs.scipy.org/doc/numpy/reference/generated/numpy.random.binomial.html\n",
    "* https://docs.scipy.org/doc/scipy/reference/generated/scipy.stats.binom.html\n",
    "* 13: Quiz: Binomial 4\n",
    "* [Probability Mass Function](https://en.wikipedia.org/wiki/Probability_mass_function) - Wikipedia"
   ]
  },
  {
   "cell_type": "code",
   "execution_count": null,
   "metadata": {},
   "outputs": [],
   "source": []
  }
 ],
 "metadata": {
  "kernelspec": {
   "display_name": "Python 3",
   "language": "python",
   "name": "python3"
  },
  "language_info": {
   "codemirror_mode": {
    "name": "ipython",
    "version": 3
   },
   "file_extension": ".py",
   "mimetype": "text/x-python",
   "name": "python",
   "nbconvert_exporter": "python",
   "pygments_lexer": "ipython3",
   "version": "3.6.7"
  }
 },
 "nbformat": 4,
 "nbformat_minor": 2
}
