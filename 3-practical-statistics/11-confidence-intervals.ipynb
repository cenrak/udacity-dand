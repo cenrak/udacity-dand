{
 "cells": [
  {
   "cell_type": "markdown",
   "metadata": {},
   "source": [
    "For 95% confidence interval: `(np.percentile(dataset, 2.5), np.percentile(dataset, 97.5))`"
   ]
  },
  {
   "cell_type": "markdown",
   "metadata": {},
   "source": [
    "If the difference of the mean between two sets does not include zero, for a large sample, it would mean that in average that the mean of those two sets don't match.\n",
    "\n",
    "Using confidence intervals and hypothesis testing, you are able to provide statistical significance in making decisions. However, it is also important to take into consideration practical significance in making decisions. Practical significance takes into consideration other factors of your situation that might not be considered directly in the results of your hypothesis test or confidence interval. Constraints like space, time, or money are important in business decisions. However, they might not be accounted for directly in a statistical test.\n",
    "\n",
    "If two scenarios perform well, and the second one is better, yet the first one is cheaper. Statistically, the second is better. Practically, the first one is better.\n",
    "\n",
    "If the confidence width is too big compared to what we wated, we could take bigger sample, or reduce confidence.\n",
    "\n",
    "\n",
    "Remember you cannot talk about individual users with confidence intervals. Confidence intervals are for an aggregate about a population like a proportion or average.\n",
    "\n",
    "For drugs to be approved, they must be rigorously tested, they are usually recommended for a particular population, and they will work on average. It is an overstatement to say that a drug will work for everyone or for any one individual.\n"
   ]
  },
  {
   "cell_type": "code",
   "execution_count": null,
   "metadata": {},
   "outputs": [],
   "source": []
  }
 ],
 "metadata": {
  "kernelspec": {
   "display_name": "Python 3",
   "language": "python",
   "name": "python3"
  },
  "language_info": {
   "codemirror_mode": {
    "name": "ipython",
    "version": 3
   },
   "file_extension": ".py",
   "mimetype": "text/x-python",
   "name": "python",
   "nbconvert_exporter": "python",
   "pygments_lexer": "ipython3",
   "version": "3.6.7"
  }
 },
 "nbformat": 4,
 "nbformat_minor": 2
}
