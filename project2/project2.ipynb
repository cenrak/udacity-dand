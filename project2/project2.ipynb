{
 "cells": [
  {
   "cell_type": "code",
   "execution_count": 375,
   "metadata": {},
   "outputs": [],
   "source": [
    "import pandas as pd\n",
    "%matplotlib inline"
   ]
  },
  {
   "cell_type": "code",
   "execution_count": 376,
   "metadata": {},
   "outputs": [],
   "source": [
    "df = pd.read_csv('tmdb-movies.csv')"
   ]
  },
  {
   "cell_type": "markdown",
   "metadata": {},
   "source": [
    "To get a list of columns"
   ]
  },
  {
   "cell_type": "code",
   "execution_count": 377,
   "metadata": {},
   "outputs": [
    {
     "name": "stdout",
     "output_type": "stream",
     "text": [
      "<class 'pandas.core.frame.DataFrame'>\n",
      "RangeIndex: 10866 entries, 0 to 10865\n",
      "Data columns (total 21 columns):\n",
      "id                      10866 non-null int64\n",
      "imdb_id                 10856 non-null object\n",
      "popularity              10866 non-null float64\n",
      "budget                  10866 non-null int64\n",
      "revenue                 10866 non-null int64\n",
      "original_title          10866 non-null object\n",
      "cast                    10790 non-null object\n",
      "homepage                2936 non-null object\n",
      "director                10822 non-null object\n",
      "tagline                 8042 non-null object\n",
      "keywords                9373 non-null object\n",
      "overview                10862 non-null object\n",
      "runtime                 10866 non-null int64\n",
      "genres                  10843 non-null object\n",
      "production_companies    9836 non-null object\n",
      "release_date            10866 non-null object\n",
      "vote_count              10866 non-null int64\n",
      "vote_average            10866 non-null float64\n",
      "release_year            10866 non-null int64\n",
      "budget_adj              10866 non-null float64\n",
      "revenue_adj             10866 non-null float64\n",
      "dtypes: float64(4), int64(6), object(11)\n",
      "memory usage: 1.7+ MB\n"
     ]
    }
   ],
   "source": [
    "df.info()"
   ]
  },
  {
   "cell_type": "markdown",
   "metadata": {},
   "source": [
    "Just before proceeding with any thing, let's drop all dumpicates"
   ]
  },
  {
   "cell_type": "code",
   "execution_count": 378,
   "metadata": {},
   "outputs": [
    {
     "name": "stdout",
     "output_type": "stream",
     "text": [
      "1 duplicate records have been deleted\n"
     ]
    }
   ],
   "source": [
    "duplicate_records = sum(df.duplicated())\n",
    "df.drop_duplicates(inplace=True)\n",
    "print('{} duplicate records have been deleted'.format(duplicate_records))"
   ]
  },
  {
   "cell_type": "markdown",
   "metadata": {},
   "source": [
    "From the `df.info()` does show that there is a number of missing values, to show how many are missing:"
   ]
  },
  {
   "cell_type": "code",
   "execution_count": 379,
   "metadata": {},
   "outputs": [
    {
     "data": {
      "text/plain": [
       "homepage                7929\n",
       "tagline                 2824\n",
       "keywords                1493\n",
       "production_companies    1030\n",
       "cast                      76\n",
       "director                  44\n",
       "genres                    23\n",
       "imdb_id                   10\n",
       "overview                   4\n",
       "popularity                 0\n",
       "budget                     0\n",
       "revenue                    0\n",
       "original_title             0\n",
       "revenue_adj                0\n",
       "budget_adj                 0\n",
       "runtime                    0\n",
       "release_date               0\n",
       "vote_count                 0\n",
       "vote_average               0\n",
       "release_year               0\n",
       "id                         0\n",
       "dtype: int64"
      ]
     },
     "execution_count": 379,
     "metadata": {},
     "output_type": "execute_result"
    }
   ],
   "source": [
    "df.isnull().sum().sort_values(ascending=False)"
   ]
  },
  {
   "cell_type": "markdown",
   "metadata": {},
   "source": [
    "Some of these columns are not needed, no need to waste any resource processing them: such as imdb_id, homepage"
   ]
  },
  {
   "cell_type": "code",
   "execution_count": 380,
   "metadata": {},
   "outputs": [],
   "source": [
    "df.drop(labels=['imdb_id', 'homepage', 'tagline', 'overview', 'keywords', 'production_companies', 'id'], axis=1, inplace=True)"
   ]
  },
  {
   "cell_type": "code",
   "execution_count": 381,
   "metadata": {},
   "outputs": [
    {
     "data": {
      "text/plain": [
       "134"
      ]
     },
     "execution_count": 381,
     "metadata": {},
     "output_type": "execute_result"
    }
   ],
   "source": [
    "df_clean = df.dropna(axis=0)\n",
    "df.shape[0] - df_clean.shape[0]"
   ]
  },
  {
   "cell_type": "code",
   "execution_count": 382,
   "metadata": {},
   "outputs": [
    {
     "data": {
      "text/html": [
       "<div>\n",
       "<style scoped>\n",
       "    .dataframe tbody tr th:only-of-type {\n",
       "        vertical-align: middle;\n",
       "    }\n",
       "\n",
       "    .dataframe tbody tr th {\n",
       "        vertical-align: top;\n",
       "    }\n",
       "\n",
       "    .dataframe thead th {\n",
       "        text-align: right;\n",
       "    }\n",
       "</style>\n",
       "<table border=\"1\" class=\"dataframe\">\n",
       "  <thead>\n",
       "    <tr style=\"text-align: right;\">\n",
       "      <th></th>\n",
       "      <th>popularity</th>\n",
       "      <th>budget</th>\n",
       "      <th>revenue</th>\n",
       "      <th>runtime</th>\n",
       "      <th>vote_count</th>\n",
       "      <th>vote_average</th>\n",
       "      <th>release_year</th>\n",
       "      <th>budget_adj</th>\n",
       "      <th>revenue_adj</th>\n",
       "    </tr>\n",
       "  </thead>\n",
       "  <tbody>\n",
       "    <tr>\n",
       "      <th>count</th>\n",
       "      <td>10731.000000</td>\n",
       "      <td>1.073100e+04</td>\n",
       "      <td>1.073100e+04</td>\n",
       "      <td>10731.000000</td>\n",
       "      <td>10731.000000</td>\n",
       "      <td>10731.000000</td>\n",
       "      <td>10731.000000</td>\n",
       "      <td>1.073100e+04</td>\n",
       "      <td>1.073100e+04</td>\n",
       "    </tr>\n",
       "    <tr>\n",
       "      <th>mean</th>\n",
       "      <td>0.652615</td>\n",
       "      <td>1.480365e+07</td>\n",
       "      <td>4.031989e+07</td>\n",
       "      <td>102.468829</td>\n",
       "      <td>219.812972</td>\n",
       "      <td>5.964710</td>\n",
       "      <td>2001.259622</td>\n",
       "      <td>1.776530e+07</td>\n",
       "      <td>5.200623e+07</td>\n",
       "    </tr>\n",
       "    <tr>\n",
       "      <th>std</th>\n",
       "      <td>1.004804</td>\n",
       "      <td>3.106456e+07</td>\n",
       "      <td>1.176524e+08</td>\n",
       "      <td>30.493873</td>\n",
       "      <td>578.815324</td>\n",
       "      <td>0.930283</td>\n",
       "      <td>12.820151</td>\n",
       "      <td>3.446630e+07</td>\n",
       "      <td>1.454252e+08</td>\n",
       "    </tr>\n",
       "    <tr>\n",
       "      <th>min</th>\n",
       "      <td>0.000188</td>\n",
       "      <td>0.000000e+00</td>\n",
       "      <td>0.000000e+00</td>\n",
       "      <td>0.000000</td>\n",
       "      <td>10.000000</td>\n",
       "      <td>1.500000</td>\n",
       "      <td>1960.000000</td>\n",
       "      <td>0.000000e+00</td>\n",
       "      <td>0.000000e+00</td>\n",
       "    </tr>\n",
       "    <tr>\n",
       "      <th>25%</th>\n",
       "      <td>0.210765</td>\n",
       "      <td>0.000000e+00</td>\n",
       "      <td>0.000000e+00</td>\n",
       "      <td>90.000000</td>\n",
       "      <td>17.000000</td>\n",
       "      <td>5.400000</td>\n",
       "      <td>1995.000000</td>\n",
       "      <td>0.000000e+00</td>\n",
       "      <td>0.000000e+00</td>\n",
       "    </tr>\n",
       "    <tr>\n",
       "      <th>50%</th>\n",
       "      <td>0.387081</td>\n",
       "      <td>0.000000e+00</td>\n",
       "      <td>0.000000e+00</td>\n",
       "      <td>99.000000</td>\n",
       "      <td>39.000000</td>\n",
       "      <td>6.000000</td>\n",
       "      <td>2006.000000</td>\n",
       "      <td>0.000000e+00</td>\n",
       "      <td>0.000000e+00</td>\n",
       "    </tr>\n",
       "    <tr>\n",
       "      <th>75%</th>\n",
       "      <td>0.720889</td>\n",
       "      <td>1.600000e+07</td>\n",
       "      <td>2.500000e+07</td>\n",
       "      <td>112.000000</td>\n",
       "      <td>148.000000</td>\n",
       "      <td>6.600000</td>\n",
       "      <td>2011.000000</td>\n",
       "      <td>2.110885e+07</td>\n",
       "      <td>3.470546e+07</td>\n",
       "    </tr>\n",
       "    <tr>\n",
       "      <th>max</th>\n",
       "      <td>32.985763</td>\n",
       "      <td>4.250000e+08</td>\n",
       "      <td>2.781506e+09</td>\n",
       "      <td>900.000000</td>\n",
       "      <td>9767.000000</td>\n",
       "      <td>9.200000</td>\n",
       "      <td>2015.000000</td>\n",
       "      <td>4.250000e+08</td>\n",
       "      <td>2.827124e+09</td>\n",
       "    </tr>\n",
       "  </tbody>\n",
       "</table>\n",
       "</div>"
      ],
      "text/plain": [
       "         popularity        budget       revenue       runtime    vote_count  \\\n",
       "count  10731.000000  1.073100e+04  1.073100e+04  10731.000000  10731.000000   \n",
       "mean       0.652615  1.480365e+07  4.031989e+07    102.468829    219.812972   \n",
       "std        1.004804  3.106456e+07  1.176524e+08     30.493873    578.815324   \n",
       "min        0.000188  0.000000e+00  0.000000e+00      0.000000     10.000000   \n",
       "25%        0.210765  0.000000e+00  0.000000e+00     90.000000     17.000000   \n",
       "50%        0.387081  0.000000e+00  0.000000e+00     99.000000     39.000000   \n",
       "75%        0.720889  1.600000e+07  2.500000e+07    112.000000    148.000000   \n",
       "max       32.985763  4.250000e+08  2.781506e+09    900.000000   9767.000000   \n",
       "\n",
       "       vote_average  release_year    budget_adj   revenue_adj  \n",
       "count  10731.000000  10731.000000  1.073100e+04  1.073100e+04  \n",
       "mean       5.964710   2001.259622  1.776530e+07  5.200623e+07  \n",
       "std        0.930283     12.820151  3.446630e+07  1.454252e+08  \n",
       "min        1.500000   1960.000000  0.000000e+00  0.000000e+00  \n",
       "25%        5.400000   1995.000000  0.000000e+00  0.000000e+00  \n",
       "50%        6.000000   2006.000000  0.000000e+00  0.000000e+00  \n",
       "75%        6.600000   2011.000000  2.110885e+07  3.470546e+07  \n",
       "max        9.200000   2015.000000  4.250000e+08  2.827124e+09  "
      ]
     },
     "execution_count": 382,
     "metadata": {},
     "output_type": "execute_result"
    }
   ],
   "source": [
    "# To get any abnormalities:\n",
    "df_clean.describe()"
   ]
  },
  {
   "cell_type": "markdown",
   "metadata": {},
   "source": [
    "Let's see how many unique cast we have:"
   ]
  },
  {
   "cell_type": "code",
   "execution_count": 383,
   "metadata": {},
   "outputs": [
    {
     "name": "stdout",
     "output_type": "stream",
     "text": [
      "There are: 18930 unique cast\n"
     ]
    }
   ],
   "source": [
    "s = set()\n",
    "for cast in df_clean['cast']:\n",
    "    s.update(cast.split('|'))\n",
    "print(\"There are: {num_casts} unique cast\".format(num_casts=len(s)))"
   ]
  },
  {
   "cell_type": "markdown",
   "metadata": {},
   "source": [
    "One initial idea I had is to add 18930 column to the dataframe, the index name of those are the cast names, and values are boolean which represent whether the cast has been in the movie or not. But let's be honest, such details are useless. Another approach, let's see how many casts listed per each movie:"
   ]
  },
  {
   "cell_type": "code",
   "execution_count": 384,
   "metadata": {},
   "outputs": [
    {
     "name": "stdout",
     "output_type": "stream",
     "text": [
      "{1, 2, 3, 4, 5}\n"
     ]
    }
   ],
   "source": [
    "s = set()\n",
    "for cast in df_clean['cast']:\n",
    "    s.update([len(cast.split('|'))])\n",
    "print(s)"
   ]
  },
  {
   "cell_type": "markdown",
   "metadata": {},
   "source": [
    "So, the number of casts listed for each movie is between 1 and 5."
   ]
  },
  {
   "cell_type": "code",
   "execution_count": 386,
   "metadata": {},
   "outputs": [
    {
     "data": {
      "text/html": [
       "<div>\n",
       "<style scoped>\n",
       "    .dataframe tbody tr th:only-of-type {\n",
       "        vertical-align: middle;\n",
       "    }\n",
       "\n",
       "    .dataframe tbody tr th {\n",
       "        vertical-align: top;\n",
       "    }\n",
       "\n",
       "    .dataframe thead th {\n",
       "        text-align: right;\n",
       "    }\n",
       "</style>\n",
       "<table border=\"1\" class=\"dataframe\">\n",
       "  <thead>\n",
       "    <tr style=\"text-align: right;\">\n",
       "      <th></th>\n",
       "      <th>popularity</th>\n",
       "      <th>budget</th>\n",
       "      <th>revenue</th>\n",
       "      <th>original_title</th>\n",
       "      <th>cast</th>\n",
       "      <th>director</th>\n",
       "      <th>runtime</th>\n",
       "      <th>genres</th>\n",
       "      <th>release_date</th>\n",
       "      <th>vote_count</th>\n",
       "      <th>vote_average</th>\n",
       "      <th>release_year</th>\n",
       "      <th>budget_adj</th>\n",
       "      <th>revenue_adj</th>\n",
       "    </tr>\n",
       "  </thead>\n",
       "  <tbody>\n",
       "    <tr>\n",
       "      <th>0</th>\n",
       "      <td>32.985763</td>\n",
       "      <td>150000000</td>\n",
       "      <td>1513528810</td>\n",
       "      <td>Jurassic World</td>\n",
       "      <td>Chris Pratt|Bryce Dallas Howard|Irrfan Khan|Vi...</td>\n",
       "      <td>Colin Trevorrow</td>\n",
       "      <td>124</td>\n",
       "      <td>Action|Adventure|Science Fiction|Thriller</td>\n",
       "      <td>6/9/15</td>\n",
       "      <td>5562</td>\n",
       "      <td>6.5</td>\n",
       "      <td>2015</td>\n",
       "      <td>1.379999e+08</td>\n",
       "      <td>1.392446e+09</td>\n",
       "    </tr>\n",
       "    <tr>\n",
       "      <th>1</th>\n",
       "      <td>28.419936</td>\n",
       "      <td>150000000</td>\n",
       "      <td>378436354</td>\n",
       "      <td>Mad Max: Fury Road</td>\n",
       "      <td>Tom Hardy|Charlize Theron|Hugh Keays-Byrne|Nic...</td>\n",
       "      <td>George Miller</td>\n",
       "      <td>120</td>\n",
       "      <td>Action|Adventure|Science Fiction|Thriller</td>\n",
       "      <td>5/13/15</td>\n",
       "      <td>6185</td>\n",
       "      <td>7.1</td>\n",
       "      <td>2015</td>\n",
       "      <td>1.379999e+08</td>\n",
       "      <td>3.481613e+08</td>\n",
       "    </tr>\n",
       "    <tr>\n",
       "      <th>2</th>\n",
       "      <td>13.112507</td>\n",
       "      <td>110000000</td>\n",
       "      <td>295238201</td>\n",
       "      <td>Insurgent</td>\n",
       "      <td>Shailene Woodley|Theo James|Kate Winslet|Ansel...</td>\n",
       "      <td>Robert Schwentke</td>\n",
       "      <td>119</td>\n",
       "      <td>Adventure|Science Fiction|Thriller</td>\n",
       "      <td>3/18/15</td>\n",
       "      <td>2480</td>\n",
       "      <td>6.3</td>\n",
       "      <td>2015</td>\n",
       "      <td>1.012000e+08</td>\n",
       "      <td>2.716190e+08</td>\n",
       "    </tr>\n",
       "    <tr>\n",
       "      <th>3</th>\n",
       "      <td>11.173104</td>\n",
       "      <td>200000000</td>\n",
       "      <td>2068178225</td>\n",
       "      <td>Star Wars: The Force Awakens</td>\n",
       "      <td>Harrison Ford|Mark Hamill|Carrie Fisher|Adam D...</td>\n",
       "      <td>J.J. Abrams</td>\n",
       "      <td>136</td>\n",
       "      <td>Action|Adventure|Science Fiction|Fantasy</td>\n",
       "      <td>12/15/15</td>\n",
       "      <td>5292</td>\n",
       "      <td>7.5</td>\n",
       "      <td>2015</td>\n",
       "      <td>1.839999e+08</td>\n",
       "      <td>1.902723e+09</td>\n",
       "    </tr>\n",
       "    <tr>\n",
       "      <th>4</th>\n",
       "      <td>9.335014</td>\n",
       "      <td>190000000</td>\n",
       "      <td>1506249360</td>\n",
       "      <td>Furious 7</td>\n",
       "      <td>Vin Diesel|Paul Walker|Jason Statham|Michelle ...</td>\n",
       "      <td>James Wan</td>\n",
       "      <td>137</td>\n",
       "      <td>Action|Crime|Thriller</td>\n",
       "      <td>4/1/15</td>\n",
       "      <td>2947</td>\n",
       "      <td>7.3</td>\n",
       "      <td>2015</td>\n",
       "      <td>1.747999e+08</td>\n",
       "      <td>1.385749e+09</td>\n",
       "    </tr>\n",
       "  </tbody>\n",
       "</table>\n",
       "</div>"
      ],
      "text/plain": [
       "   popularity     budget     revenue                original_title  \\\n",
       "0   32.985763  150000000  1513528810                Jurassic World   \n",
       "1   28.419936  150000000   378436354            Mad Max: Fury Road   \n",
       "2   13.112507  110000000   295238201                     Insurgent   \n",
       "3   11.173104  200000000  2068178225  Star Wars: The Force Awakens   \n",
       "4    9.335014  190000000  1506249360                     Furious 7   \n",
       "\n",
       "                                                cast          director  \\\n",
       "0  Chris Pratt|Bryce Dallas Howard|Irrfan Khan|Vi...   Colin Trevorrow   \n",
       "1  Tom Hardy|Charlize Theron|Hugh Keays-Byrne|Nic...     George Miller   \n",
       "2  Shailene Woodley|Theo James|Kate Winslet|Ansel...  Robert Schwentke   \n",
       "3  Harrison Ford|Mark Hamill|Carrie Fisher|Adam D...       J.J. Abrams   \n",
       "4  Vin Diesel|Paul Walker|Jason Statham|Michelle ...         James Wan   \n",
       "\n",
       "   runtime                                     genres release_date  \\\n",
       "0      124  Action|Adventure|Science Fiction|Thriller       6/9/15   \n",
       "1      120  Action|Adventure|Science Fiction|Thriller      5/13/15   \n",
       "2      119         Adventure|Science Fiction|Thriller      3/18/15   \n",
       "3      136   Action|Adventure|Science Fiction|Fantasy     12/15/15   \n",
       "4      137                      Action|Crime|Thriller       4/1/15   \n",
       "\n",
       "   vote_count  vote_average  release_year    budget_adj   revenue_adj  \n",
       "0        5562           6.5          2015  1.379999e+08  1.392446e+09  \n",
       "1        6185           7.1          2015  1.379999e+08  3.481613e+08  \n",
       "2        2480           6.3          2015  1.012000e+08  2.716190e+08  \n",
       "3        5292           7.5          2015  1.839999e+08  1.902723e+09  \n",
       "4        2947           7.3          2015  1.747999e+08  1.385749e+09  "
      ]
     },
     "execution_count": 386,
     "metadata": {},
     "output_type": "execute_result"
    }
   ],
   "source": [
    "df_clean.head()"
   ]
  },
  {
   "cell_type": "code",
   "execution_count": 368,
   "metadata": {},
   "outputs": [
    {
     "name": "stdout",
     "output_type": "stream",
     "text": [
      "0        Chris Pratt|Bryce Dallas Howard|Irrfan Khan|Vi...\n",
      "1        Tom Hardy|Charlize Theron|Hugh Keays-Byrne|Nic...\n",
      "2        Shailene Woodley|Theo James|Kate Winslet|Ansel...\n",
      "3        Harrison Ford|Mark Hamill|Carrie Fisher|Adam D...\n",
      "4        Vin Diesel|Paul Walker|Jason Statham|Michelle ...\n",
      "5        Leonardo DiCaprio|Tom Hardy|Will Poulter|Domhn...\n",
      "6        Arnold Schwarzenegger|Jason Clarke|Emilia Clar...\n",
      "7        Matt Damon|Jessica Chastain|Kristen Wiig|Jeff ...\n",
      "8        Sandra Bullock|Jon Hamm|Michael Keaton|Allison...\n",
      "9        Amy Poehler|Phyllis Smith|Richard Kind|Bill Ha...\n",
      "10       Daniel Craig|Christoph Waltz|LÃ©a Seydoux|Ralp...\n",
      "11       Mila Kunis|Channing Tatum|Sean Bean|Eddie Redm...\n",
      "12       Domhnall Gleeson|Alicia Vikander|Oscar Isaac|S...\n",
      "13       Adam Sandler|Michelle Monaghan|Peter Dinklage|...\n",
      "14       Robert Downey Jr.|Chris Hemsworth|Mark Ruffalo...\n",
      "15       Samuel L. Jackson|Kurt Russell|Jennifer Jason ...\n",
      "16       Liam Neeson|Forest Whitaker|Maggie Grace|Famke...\n",
      "17       Paul Rudd|Michael Douglas|Evangeline Lilly|Cor...\n",
      "18       Lily James|Cate Blanchett|Richard Madden|Helen...\n",
      "19       Jennifer Lawrence|Josh Hutcherson|Liam Hemswor...\n",
      "20       Britt Robertson|George Clooney|Raffey Cassidy|...\n",
      "21       Jake Gyllenhaal|Rachel McAdams|Forest Whitaker...\n",
      "22       Dwayne Johnson|Alexandra Daddario|Carla Gugino...\n",
      "23       Dakota Johnson|Jamie Dornan|Jennifer Ehle|Eloi...\n",
      "24       Christian Bale|Steve Carell|Ryan Gosling|Brad ...\n",
      "25       Tom Cruise|Jeremy Renner|Simon Pegg|Rebecca Fe...\n",
      "26       Mark Wahlberg|Seth MacFarlane|Amanda Seyfried|...\n",
      "27       Taron Egerton|Colin Firth|Samuel L. Jackson|Mi...\n",
      "28       Mark Ruffalo|Michael Keaton|Rachel McAdams|Lie...\n",
      "29       Dylan O'Brien|Kaya Scodelario|Thomas Brodie-Sa...\n",
      "                               ...                        \n",
      "10836    Cary Grant|Samantha Eggar|Jim Hutton|John Stan...\n",
      "10837    George Peppard|James Mason|Ursula Andress|Jere...\n",
      "10838    Burt Lancaster|Lee Marvin|Robert Ryan|Woody St...\n",
      "10839    Christopher Shea|Sally Dryer|Kathy Steinberg|A...\n",
      "10840    Michael Caine|Paul Hubschmid|Oskar Homolka|Eva...\n",
      "10841    Will Hutchins|Millie Perkins|Jack Nicholson|Wa...\n",
      "10842    Sterling Holloway|Junius Matthews|Sebastian Ca...\n",
      "10843    Charlton Heston|Laurence Olivier|Richard Johns...\n",
      "10844    James Coburn|Lee J. Cobb|Gila Golan|Edward Mul...\n",
      "10845    Sid James|Jim Dale|Angela Douglas|Kenneth Will...\n",
      "10846    Christopher Lee|Barbara Shelley|Andrew Keir|Fr...\n",
      "10847    Peter Cushing|Edward Judd|Carole Gray|Eddie By...\n",
      "10848    Stephen Boyd|Raquel Welch|Edmond O'Brien|Donal...\n",
      "10849    Michael Caine|Shirley MacLaine|Herbert Lom|Joh...\n",
      "10850    Paul Newman|Lauren Bacall|Julie Harris|Arthur ...\n",
      "10851    Virginia McKenna|Bill Travers|Geoffrey Keen|Pe...\n",
      "10852    Henry Fonda|Joanne Woodward|Jason Robards|Paul...\n",
      "10853    Michael Caine|Shelley Winters|Millicent Martin...\n",
      "10854    Marlon Brando|Jane Fonda|Robert Redford|E.G. M...\n",
      "10855    Don Knotts|Joan Staley|Liam Redmond|Dick Sarge...\n",
      "10856    Dean Jones|Suzanne Pleshette|Charles Ruggles|K...\n",
      "10857    Steve McQueen|Karl Malden|Brian Keith|Arthur K...\n",
      "10858    Carl Reiner|Eva Marie Saint|Alan Arkin|Brian K...\n",
      "10859    Rock Hudson|Salome Jens|John Randolph|Will Gee...\n",
      "10860    Kenneth Williams|Jim Dale|Harry H. Corbett|Joa...\n",
      "10861    Michael Hynson|Robert August|Lord 'Tally Ho' B...\n",
      "10862    James Garner|Eva Marie Saint|Yves Montand|Tosh...\n",
      "10863    Innokentiy Smoktunovskiy|Oleg Efremov|Georgi Z...\n",
      "10864    Tatsuya Mihashi|Akiko Wakabayashi|Mie Hama|Joh...\n",
      "10865    Harold P. Warren|Tom Neyman|John Reynolds|Dian...\n",
      "Name: cast, Length: 10731, dtype: object 0\n"
     ]
    },
    {
     "ename": "AttributeError",
     "evalue": "'Series' object has no attribute 'split'",
     "output_type": "error",
     "traceback": [
      "\u001b[0;31m---------------------------------------------------------------------------\u001b[0m",
      "\u001b[0;31mAttributeError\u001b[0m                            Traceback (most recent call last)",
      "\u001b[0;32m<ipython-input-368-c080da3cfed9>\u001b[0m in \u001b[0;36m<module>\u001b[0;34m\u001b[0m\n\u001b[1;32m      6\u001b[0m         \u001b[0;32mreturn\u001b[0m \u001b[0;34m''\u001b[0m\u001b[0;34m\u001b[0m\u001b[0;34m\u001b[0m\u001b[0m\n\u001b[1;32m      7\u001b[0m \u001b[0;34m\u001b[0m\u001b[0m\n\u001b[0;32m----> 8\u001b[0;31m \u001b[0mdf_clean\u001b[0m \u001b[0;34m=\u001b[0m \u001b[0mdf_clean\u001b[0m\u001b[0;34m.\u001b[0m\u001b[0massign\u001b[0m\u001b[0;34m(\u001b[0m\u001b[0mactor1\u001b[0m\u001b[0;34m=\u001b[0m\u001b[0mextract_actor\u001b[0m\u001b[0;34m(\u001b[0m\u001b[0mdf_clean\u001b[0m\u001b[0;34m.\u001b[0m\u001b[0mcast\u001b[0m\u001b[0;34m,\u001b[0m \u001b[0;36m0\u001b[0m\u001b[0;34m)\u001b[0m\u001b[0;34m)\u001b[0m\u001b[0;34m\u001b[0m\u001b[0;34m\u001b[0m\u001b[0m\n\u001b[0m",
      "\u001b[0;32m<ipython-input-368-c080da3cfed9>\u001b[0m in \u001b[0;36mextract_actor\u001b[0;34m(t, i)\u001b[0m\n\u001b[1;32m      2\u001b[0m     \u001b[0mprint\u001b[0m\u001b[0;34m(\u001b[0m\u001b[0mt\u001b[0m\u001b[0;34m,\u001b[0m \u001b[0mi\u001b[0m\u001b[0;34m)\u001b[0m\u001b[0;34m\u001b[0m\u001b[0;34m\u001b[0m\u001b[0m\n\u001b[1;32m      3\u001b[0m     \u001b[0;32mtry\u001b[0m\u001b[0;34m:\u001b[0m\u001b[0;34m\u001b[0m\u001b[0;34m\u001b[0m\u001b[0m\n\u001b[0;32m----> 4\u001b[0;31m         \u001b[0;32mreturn\u001b[0m \u001b[0mt\u001b[0m\u001b[0;34m.\u001b[0m\u001b[0msplit\u001b[0m\u001b[0;34m(\u001b[0m\u001b[0;34m'|'\u001b[0m\u001b[0;34m)\u001b[0m\u001b[0;34m[\u001b[0m\u001b[0mi\u001b[0m\u001b[0;34m]\u001b[0m\u001b[0;34m\u001b[0m\u001b[0;34m\u001b[0m\u001b[0m\n\u001b[0m\u001b[1;32m      5\u001b[0m     \u001b[0;32mexcept\u001b[0m \u001b[0mIndexError\u001b[0m\u001b[0;34m:\u001b[0m\u001b[0;34m\u001b[0m\u001b[0;34m\u001b[0m\u001b[0m\n\u001b[1;32m      6\u001b[0m         \u001b[0;32mreturn\u001b[0m \u001b[0;34m''\u001b[0m\u001b[0;34m\u001b[0m\u001b[0;34m\u001b[0m\u001b[0m\n",
      "\u001b[0;32m~/anaconda3/envs/py3/lib/python3.6/site-packages/pandas/core/generic.py\u001b[0m in \u001b[0;36m__getattr__\u001b[0;34m(self, name)\u001b[0m\n\u001b[1;32m   5065\u001b[0m             \u001b[0;32mif\u001b[0m \u001b[0mself\u001b[0m\u001b[0;34m.\u001b[0m\u001b[0m_info_axis\u001b[0m\u001b[0;34m.\u001b[0m\u001b[0m_can_hold_identifiers_and_holds_name\u001b[0m\u001b[0;34m(\u001b[0m\u001b[0mname\u001b[0m\u001b[0;34m)\u001b[0m\u001b[0;34m:\u001b[0m\u001b[0;34m\u001b[0m\u001b[0;34m\u001b[0m\u001b[0m\n\u001b[1;32m   5066\u001b[0m                 \u001b[0;32mreturn\u001b[0m \u001b[0mself\u001b[0m\u001b[0;34m[\u001b[0m\u001b[0mname\u001b[0m\u001b[0;34m]\u001b[0m\u001b[0;34m\u001b[0m\u001b[0;34m\u001b[0m\u001b[0m\n\u001b[0;32m-> 5067\u001b[0;31m             \u001b[0;32mreturn\u001b[0m \u001b[0mobject\u001b[0m\u001b[0;34m.\u001b[0m\u001b[0m__getattribute__\u001b[0m\u001b[0;34m(\u001b[0m\u001b[0mself\u001b[0m\u001b[0;34m,\u001b[0m \u001b[0mname\u001b[0m\u001b[0;34m)\u001b[0m\u001b[0;34m\u001b[0m\u001b[0;34m\u001b[0m\u001b[0m\n\u001b[0m\u001b[1;32m   5068\u001b[0m \u001b[0;34m\u001b[0m\u001b[0m\n\u001b[1;32m   5069\u001b[0m     \u001b[0;32mdef\u001b[0m \u001b[0m__setattr__\u001b[0m\u001b[0;34m(\u001b[0m\u001b[0mself\u001b[0m\u001b[0;34m,\u001b[0m \u001b[0mname\u001b[0m\u001b[0;34m,\u001b[0m \u001b[0mvalue\u001b[0m\u001b[0;34m)\u001b[0m\u001b[0;34m:\u001b[0m\u001b[0;34m\u001b[0m\u001b[0;34m\u001b[0m\u001b[0m\n",
      "\u001b[0;31mAttributeError\u001b[0m: 'Series' object has no attribute 'split'"
     ]
    }
   ],
   "source": [
    "def extract_actor(t, i):\n",
    "    print(t, i)\n",
    "    try:\n",
    "        return t.split('|')[i]\n",
    "    except IndexError:\n",
    "        return ''\n",
    "    \n",
    "df_clean = df_clean.assign(actor1=extract_actor(df_clean.cast, 0))"
   ]
  },
  {
   "cell_type": "code",
   "execution_count": 374,
   "metadata": {},
   "outputs": [
    {
     "data": {
      "text/plain": [
       "False"
      ]
     },
     "execution_count": 374,
     "metadata": {},
     "output_type": "execute_result"
    }
   ],
   "source": [
    "df_clean['cast'].isna().any()"
   ]
  },
  {
   "cell_type": "code",
   "execution_count": null,
   "metadata": {},
   "outputs": [],
   "source": []
  }
 ],
 "metadata": {
  "kernelspec": {
   "display_name": "Python 3",
   "language": "python",
   "name": "python3"
  },
  "language_info": {
   "codemirror_mode": {
    "name": "ipython",
    "version": 3
   },
   "file_extension": ".py",
   "mimetype": "text/x-python",
   "name": "python",
   "nbconvert_exporter": "python",
   "pygments_lexer": "ipython3",
   "version": "3.6.7"
  }
 },
 "nbformat": 4,
 "nbformat_minor": 2
}
