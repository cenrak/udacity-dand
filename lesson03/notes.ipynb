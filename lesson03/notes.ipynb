{
 "cells": [
  {
   "cell_type": "markdown",
   "metadata": {},
   "source": []
  },
  {
   "cell_type": "markdown",
   "metadata": {},
   "source": [
    "# 16 \n",
    "Common data problems:\n",
    "1. Incorrect data types\n",
    "2. missing data\n",
    "3. duplicates\n",
    "4. Structural problems (different column name)"
   ]
  },
  {
   "cell_type": "markdown",
   "metadata": {},
   "source": [
    "# 19\n",
    "* Hostograms are used to analyze the distribution, while scatterplor to analyze the relationship."
   ]
  },
  {
   "cell_type": "markdown",
   "metadata": {},
   "source": [
    "# Common Pandas functions\n",
    "\n",
    "* `pd.info()`: shows the number, and type of each column. Usefull to get if any of the entries are missing \n",
    "* `sum(df.duplicated())` to find the number of duplicated rows. \n",
    "* `df[column].fillna(df[column].mean(), inplace=True)` to fill all NA values with the mean of the column\n",
    "* `pd.plotting.scatter_matrix(df, figsize=(8,8))` to get quick insight into the relationships among numerical variables with scatter plots\n",
    "* `df[column].values_count()` to get a count for each value. Useful with plotting bar and pie charts\n"
   ]
  },
  {
   "cell_type": "markdown",
   "metadata": {},
   "source": [
    "# Common Pandas practices:\n",
    "* `df.columns = new_labels` to change the old labels with new ones\n",
    "* `df[c].plot(kind='box');` helps to understand outliers\n",
    "* `df[c].value_counts().index` followed by `df[c].value_counts()[ind].plot(kind='bar')` will insure labels are consistent and ordered"
   ]
  },
  {
   "cell_type": "code",
   "execution_count": null,
   "metadata": {},
   "outputs": [],
   "source": []
  },
  {
   "cell_type": "code",
   "execution_count": null,
   "metadata": {},
   "outputs": [],
   "source": []
  }
 ],
 "metadata": {
  "kernelspec": {
   "display_name": "Python 3",
   "language": "python",
   "name": "python3"
  },
  "language_info": {
   "codemirror_mode": {
    "name": "ipython",
    "version": 3
   },
   "file_extension": ".py",
   "mimetype": "text/x-python",
   "name": "python",
   "nbconvert_exporter": "python",
   "pygments_lexer": "ipython3",
   "version": "3.7.2"
  }
 },
 "nbformat": 4,
 "nbformat_minor": 2
}
